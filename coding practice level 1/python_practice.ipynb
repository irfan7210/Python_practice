{
  "cells": [
    {
      "cell_type": "markdown",
      "metadata": {
        "id": "view-in-github",
        "colab_type": "text"
      },
      "source": [
        "<a href=\"https://colab.research.google.com/github/irfan7210/Python_practice/blob/main/python_practice.ipynb\" target=\"_parent\"><img src=\"https://colab.research.google.com/assets/colab-badge.svg\" alt=\"Open In Colab\"/></a>"
      ]
    },
    {
      "cell_type": "markdown",
      "metadata": {
        "id": "isWMS0c1tJZz"
      },
      "source": [
        "# **In Python, create a program that generates a Fibonacci sequence.**"
      ]
    },
    {
      "cell_type": "code",
      "execution_count": null,
      "metadata": {
        "id": "ex3mOjADtCQL"
      },
      "outputs": [],
      "source": [
        "def fibonacci_seq(n):\n",
        "  sequence = []\n",
        "  a, b = 0,1\n",
        "  while len(sequence) < n:\n",
        "    sequence.append(a)\n",
        "    a,b = b, a+b\n",
        "  return sequence\n",
        "\n"
      ]
    },
    {
      "cell_type": "code",
      "execution_count": null,
      "metadata": {
        "colab": {
          "base_uri": "https://localhost:8080/"
        },
        "id": "6UwFn-ZQ66z_",
        "outputId": "d442b756-8026-4263-a98d-02bf116340b0"
      },
      "outputs": [
        {
          "data": {
            "text/plain": [
              "[0, 1, 1, 2, 3, 5, 8, 13, 21, 34]"
            ]
          },
          "execution_count": 6,
          "metadata": {},
          "output_type": "execute_result"
        }
      ],
      "source": [
        "fibonacci_seq(10)"
      ]
    },
    {
      "cell_type": "code",
      "source": [
        "def fibonacci_recursive(n):\n",
        "    if n <= 0:\n",
        "        return 0\n",
        "    elif n == 1:\n",
        "        return 1\n",
        "    else:\n",
        "        return fibonacci_recursive(n - 1) + fibonacci_recursive(n - 2)\n",
        "\n",
        "# Example usage:\n",
        "n = 10  # Change this to the Fibonacci number you want to compute\n",
        "fib_number = fibonacci_recursive(n)\n",
        "print(f\"Fibonacci number at position {n}: {fib_number}\")\n"
      ],
      "metadata": {
        "colab": {
          "base_uri": "https://localhost:8080/"
        },
        "id": "UCsQTI84dmFB",
        "outputId": "00480576-0440-4503-d07d-635c6fe3e5c8"
      },
      "execution_count": 1,
      "outputs": [
        {
          "output_type": "stream",
          "name": "stdout",
          "text": [
            "Fibonacci number at position 10: 55\n"
          ]
        }
      ]
    },
    {
      "cell_type": "code",
      "source": [
        "def fibonacci_series_recursive(n):\n",
        "    series = []\n",
        "    for i in range(n):\n",
        "        series.append(fibonacci_recursive(i))\n",
        "    return series\n",
        "\n",
        "def fibonacci_recursive(n):\n",
        "    if n <= 0:\n",
        "        return 0\n",
        "    elif n == 1:\n",
        "        return 1\n",
        "    else:\n",
        "        return fibonacci_recursive(n - 1) + fibonacci_recursive(n - 2)\n",
        "\n",
        "# Example usage:\n",
        "n = 10  # Change this to the number of Fibonacci numbers you want to generate\n",
        "fib_series = fibonacci_series_recursive(n)\n",
        "print(f\"Fibonacci series up to position {n}: {fib_series}\")\n"
      ],
      "metadata": {
        "colab": {
          "base_uri": "https://localhost:8080/"
        },
        "id": "xtPtDhpgd7hk",
        "outputId": "807dbccb-c285-4fba-dc2c-c91a93bf352f"
      },
      "execution_count": 2,
      "outputs": [
        {
          "output_type": "stream",
          "name": "stdout",
          "text": [
            "Fibonacci series up to position 10: [0, 1, 1, 2, 3, 5, 8, 13, 21, 34]\n"
          ]
        }
      ]
    },
    {
      "cell_type": "markdown",
      "metadata": {
        "id": "k_ss8sTwnOqN"
      },
      "source": [
        "# **Make a Python script that checks if a given number is prime.**"
      ]
    },
    {
      "cell_type": "code",
      "execution_count": null,
      "metadata": {
        "colab": {
          "base_uri": "https://localhost:8080/"
        },
        "id": "R1GLr6U-lElG",
        "outputId": "fe4dda91-eb90-4ed9-b261-fd2f03f55c95"
      },
      "outputs": [
        {
          "name": "stdout",
          "output_type": "stream",
          "text": [
            "10\n",
            "False\n"
          ]
        }
      ],
      "source": [
        "n = int(input())\n",
        "if n < 2:\n",
        "    print(False)\n",
        "else:\n",
        "    for i in range(2, n):\n",
        "        if n % i == 0:\n",
        "            print(False)\n",
        "            break\n",
        "    else:\n",
        "        print(True)\n"
      ]
    },
    {
      "cell_type": "markdown",
      "metadata": {
        "id": "YWmWAUIEwdaD"
      },
      "source": [
        "# **Create a Python program that checks if a given sequence is a Palindrome.**"
      ]
    },
    {
      "cell_type": "code",
      "execution_count": null,
      "metadata": {
        "colab": {
          "base_uri": "https://localhost:8080/"
        },
        "id": "BP-c90X4whE4",
        "outputId": "1357dd3e-2ced-4434-e66f-07666f545e44"
      },
      "outputs": [
        {
          "name": "stdout",
          "output_type": "stream",
          "text": [
            "122\n",
            "FALSE\n"
          ]
        }
      ],
      "source": [
        "num = int(input())\n",
        "str_num = str(num)\n",
        "reverse = str_num[::-1]\n",
        "if str_num == reverse:\n",
        "  print(\"YES\")\n",
        "else:\n",
        "  print(\"FALSE\")\n"
      ]
    },
    {
      "cell_type": "markdown",
      "metadata": {
        "id": "fByE6WZZ4Ps7"
      },
      "source": [
        "## Someimp"
      ]
    },
    {
      "cell_type": "markdown",
      "metadata": {
        "id": "pYKTtSk-z6uI"
      },
      "source": [
        "**In a NumPy array, how do I extract the indices of N maximum values?**"
      ]
    },
    {
      "cell_type": "code",
      "execution_count": null,
      "metadata": {
        "id": "VROooSBu4eTC"
      },
      "outputs": [],
      "source": [
        "import numpy\n",
        "array = numpy.array([4, 8, 4, 9, 2])\n",
        "print(array.argsort()[-2:][::-1])"
      ]
    },
    {
      "cell_type": "markdown",
      "metadata": {
        "id": "upM2eNjA4aaW"
      },
      "source": [
        "\n",
        "**Using Python/ NumPy, write code to compute percentiles?**\n"
      ]
    },
    {
      "cell_type": "code",
      "execution_count": null,
      "metadata": {
        "id": "ztGCggPo4pVR"
      },
      "outputs": [],
      "source": [
        "import numpy\n",
        "array = numpy.array([3, 6, 1, 6, 5, 2])\n",
        "percentile = numpy.percentile(array, 45) #Returns 45th percentile\n",
        "print(percentile)"
      ]
    },
    {
      "cell_type": "markdown",
      "metadata": {
        "id": "zHBLt90j4wOP"
      },
      "source": [
        "# **Write a Python program to determine whether a number is binary.**"
      ]
    },
    {
      "cell_type": "code",
      "execution_count": null,
      "metadata": {
        "colab": {
          "base_uri": "https://localhost:8080/"
        },
        "id": "N06PMnGa4zCZ",
        "outputId": "d8dc012f-d331-48e3-e254-210ce6c8fe70"
      },
      "outputs": [
        {
          "name": "stdout",
          "output_type": "stream",
          "text": [
            "101010\n",
            "IS_Binary\n"
          ]
        }
      ],
      "source": [
        "num = int(input())\n",
        "if set(str(num)) <= {'0', '1'}:\n",
        "  print(\"IS_Binary\")\n",
        "else:\n",
        "  print(\"not_Binary\")"
      ]
    },
    {
      "cell_type": "code",
      "execution_count": null,
      "metadata": {
        "colab": {
          "base_uri": "https://localhost:8080/"
        },
        "id": "hiBI-QosCndO",
        "outputId": "dc16b24d-040f-4a9e-b4ed-2fa299c66a41"
      },
      "outputs": [
        {
          "name": "stdout",
          "output_type": "stream",
          "text": [
            "101010\n",
            "BINARY\n"
          ]
        }
      ],
      "source": [
        "num = int(input(\"Enter a number: \"))\n",
        "while num > 0:\n",
        "    x = num % 10\n",
        "    if x != 0 and x != 1:\n",
        "        print(\"NOT A BINARY\")\n",
        "        break\n",
        "    num = num // 10\n",
        "else:\n",
        "    print(\"BINARY\")\n"
      ]
    },
    {
      "cell_type": "markdown",
      "metadata": {
        "id": "JOQH4jCLFQrs"
      },
      "source": [
        "# **calculate factorial in Python.**"
      ]
    },
    {
      "cell_type": "markdown",
      "metadata": {
        "id": "dvRK4UQjFyfQ"
      },
      "source": [
        "Using the Iterative technique,"
      ]
    },
    {
      "cell_type": "code",
      "execution_count": null,
      "metadata": {
        "id": "5Et7pwE0FQQP"
      },
      "outputs": [],
      "source": [
        "def fact_num(n):\n",
        "    if n < 0:\n",
        "        print(\"Factorial can't be calculated for negative numbers\")\n",
        "    elif n == 0:\n",
        "        print(\"Factorial of 0 is 1\")\n",
        "    else:\n",
        "        fact = 1  # initialize the factorial variable to 1\n",
        "        for i in range(1, n + 1):\n",
        "            fact *= i  # update the factorial variable with the product of the previous value and the current index\n",
        "        print(f\"Factorial of {n} is {fact}\")\n"
      ]
    },
    {
      "cell_type": "code",
      "execution_count": null,
      "metadata": {
        "colab": {
          "base_uri": "https://localhost:8080/"
        },
        "id": "vjMlwT7NLy1p",
        "outputId": "e1585ef7-b3b1-4cfc-8358-334ad6f1d6e3"
      },
      "outputs": [
        {
          "name": "stdout",
          "output_type": "stream",
          "text": [
            "Factorial of 5 is 120\n"
          ]
        }
      ],
      "source": [
        "fact_num(5)"
      ]
    },
    {
      "cell_type": "markdown",
      "metadata": {
        "id": "pz__ES9-NBQ-"
      },
      "source": [
        "# **Compute the LCM of two given numbers using Python code.**"
      ]
    },
    {
      "cell_type": "code",
      "execution_count": null,
      "metadata": {
        "colab": {
          "base_uri": "https://localhost:8080/"
        },
        "id": "AIzZBZGmxoxi",
        "outputId": "1cf942e8-8673-4365-9fd6-54a6336309dd"
      },
      "outputs": [
        {
          "name": "stdout",
          "output_type": "stream",
          "text": [
            "enter the numbers\n",
            "4\n",
            "3\n",
            "LCM of number is:  12\n"
          ]
        }
      ],
      "source": [
        "print(\"enter the numbers\")\n",
        "a = int(input())\n",
        "b = int(input())\n",
        "for i in range(1, a*b + 1):\n",
        "  if i%a==0 and i%b==0:\n",
        "    print(\"LCM of number is: \", i)\n",
        "    break\n",
        "\n",
        "\n"
      ]
    },
    {
      "cell_type": "markdown",
      "metadata": {
        "id": "KucOoMUcXcds"
      },
      "source": [
        "# **Write a Python program that removes vowels from a string.**"
      ]
    },
    {
      "cell_type": "code",
      "execution_count": null,
      "metadata": {
        "id": "6i-J0TMQ4Xbo"
      },
      "outputs": [],
      "source": [
        "def remove_vowels(s):\n",
        "    vowels = \"aeiouAEIOU\"\n",
        "    result = \"\"\n",
        "    # Iterate over each character in the input string\n",
        "    for char in s:\n",
        "        # If the character is not a vowel, append it to the result string\n",
        "        if char not in vowels:\n",
        "            result += char\n",
        "    # Return the result string with all vowels removed\n",
        "    return result\n"
      ]
    },
    {
      "cell_type": "code",
      "execution_count": null,
      "metadata": {
        "colab": {
          "base_uri": "https://localhost:8080/",
          "height": 35
        },
        "id": "It5fwVpFeQy-",
        "outputId": "8072e548-570d-40a0-9c39-9f1dfd4b6538"
      },
      "outputs": [
        {
          "data": {
            "application/vnd.google.colaboratory.intrinsic+json": {
              "type": "string"
            },
            "text/plain": [
              "'FghTR'"
            ]
          },
          "execution_count": 4,
          "metadata": {},
          "output_type": "execute_result"
        }
      ],
      "source": [
        "remove_vowels(\"FighTER\")"
      ]
    },
    {
      "cell_type": "markdown",
      "metadata": {
        "id": "xOnZjXslrLBP"
      },
      "source": [
        "# **Write a Python code to reverse a given list.**"
      ]
    },
    {
      "cell_type": "code",
      "execution_count": null,
      "metadata": {
        "colab": {
          "base_uri": "https://localhost:8080/"
        },
        "id": "fqumhvPGvUDR",
        "outputId": "8e2e9f06-fa3b-4e6f-f3e6-d7de72e09e63"
      },
      "outputs": [
        {
          "name": "stdout",
          "output_type": "stream",
          "text": [
            "enter the number\n",
            "12345\n",
            "54321\n"
          ]
        }
      ],
      "source": [
        "print(\"enter the number\")\n",
        "number = int(input())\n",
        "string = str(number)\n",
        "reversed_str = string[::-1]\n",
        "print(reversed_str)\n"
      ]
    },
    {
      "cell_type": "markdown",
      "metadata": {
        "id": "-nfXzbzCvhXC"
      },
      "source": [
        "# **Write a Python program that rotates an array by two positions to the right.**"
      ]
    },
    {
      "cell_type": "code",
      "execution_count": null,
      "metadata": {
        "colab": {
          "base_uri": "https://localhost:8080/"
        },
        "id": "M6-KXwtdvkaf",
        "outputId": "d970dd38-dd3e-4d47-99e1-d49da7fbf544"
      },
      "outputs": [
        {
          "name": "stdout",
          "output_type": "stream",
          "text": [
            "enter the number\n",
            "543256\n",
            "54321\n"
          ]
        }
      ],
      "source": [
        "print(\"enter the number\")\n",
        "number = int(input())\n",
        "string = str(number)\n",
        "rotated_str = string[::]\n",
        "print(reversed_str)"
      ]
    },
    {
      "cell_type": "markdown",
      "metadata": {
        "id": "UOdRPhM8JWfa"
      },
      "source": [
        "# **You are given a string and your task is to swap cases. In other words, convert all lowercase letters to uppercase letters and vice versa.**"
      ]
    },
    {
      "cell_type": "code",
      "execution_count": null,
      "metadata": {
        "id": "aP1_PMzV_o9B"
      },
      "outputs": [],
      "source": [
        "def swap_str(string):\n",
        "  swapped_string = \"\"\n",
        "  for char in string:\n",
        "    if char.islower():\n",
        "      swapped_string += char.upper()\n",
        "    elif char.isupper():\n",
        "      swapped_string += char.lower()\n",
        "    else:\n",
        "      swapped_string += char\n",
        "  return swapped_string\n"
      ]
    },
    {
      "cell_type": "code",
      "execution_count": null,
      "metadata": {
        "colab": {
          "base_uri": "https://localhost:8080/"
        },
        "id": "MAsWej-6K66y",
        "outputId": "4dd735e1-0376-41ac-a78f-d2ee5676860e"
      },
      "outputs": [
        {
          "name": "stdout",
          "output_type": "stream",
          "text": [
            "wWW.hACKERrANK.COM\n",
            "pYTHONIST 2\n"
          ]
        }
      ],
      "source": [
        "string = \"Www.HackerRank.com\"\n",
        "swapped_string = swap_str(string)\n",
        "print(swapped_string)   # wWW.hACKERrANK.COM\n",
        "\n",
        "string = \"Pythonist 2\"\n",
        "swapped_string = swap_str(string)\n",
        "print(swapped_string)   # pYTHONIST 2\n"
      ]
    },
    {
      "cell_type": "markdown",
      "metadata": {
        "id": "ItHZlMXRMKAo"
      },
      "source": [
        "# **You are given a string. Split the string on a \" \" (space) delimiter and join using a - hyphen.**"
      ]
    },
    {
      "cell_type": "code",
      "execution_count": null,
      "metadata": {
        "id": "un-1D7VAW969"
      },
      "outputs": [],
      "source": [
        "def string_spl(string):\n",
        "    words = string.split()\n",
        "    return \"-\".join(words)"
      ]
    },
    {
      "cell_type": "code",
      "execution_count": null,
      "metadata": {
        "colab": {
          "base_uri": "https://localhost:8080/",
          "height": 35
        },
        "id": "5v5WTKU8Xd2u",
        "outputId": "5c752042-460a-4985-ca9c-157bd1ef8c0b"
      },
      "outputs": [
        {
          "data": {
            "application/vnd.google.colaboratory.intrinsic+json": {
              "type": "string"
            },
            "text/plain": [
              "'my-name-is-mon'"
            ]
          },
          "execution_count": 6,
          "metadata": {},
          "output_type": "execute_result"
        }
      ],
      "source": [
        "string_spl(\"my name is mon\")"
      ]
    },
    {
      "cell_type": "markdown",
      "metadata": {
        "id": "fysnBu29Y56Q"
      },
      "source": []
    },
    {
      "cell_type": "code",
      "execution_count": null,
      "metadata": {
        "id": "eyiXmnckbEBP"
      },
      "outputs": [],
      "source": [
        "import math\n",
        "from sympy import isprime\n",
        "def printGreeting():\n",
        "    print(\"Hello World!\")"
      ]
    },
    {
      "cell_type": "code",
      "execution_count": null,
      "metadata": {
        "id": "g7f74HgSbeDw"
      },
      "outputs": [],
      "source": []
    },
    {
      "cell_type": "code",
      "execution_count": null,
      "metadata": {
        "id": "YJkJ0GXAbLkQ"
      },
      "outputs": [],
      "source": [
        "def printZ():\n",
        "    print(\"*****\")\n",
        "    print(\"   *\")\n",
        "    print(\"  *\")\n",
        "    print(\" *\")\n",
        "    print(\"*****\")"
      ]
    },
    {
      "cell_type": "code",
      "execution_count": null,
      "metadata": {
        "colab": {
          "base_uri": "https://localhost:8080/"
        },
        "id": "IJK8Gn2VjC6X",
        "outputId": "eb70b7df-e18f-49da-ced4-38e86205b77d"
      },
      "outputs": [
        {
          "name": "stdout",
          "output_type": "stream",
          "text": [
            "Enter the number of rows: 3\n",
            "A \n",
            "B B \n",
            "C C C \n"
          ]
        }
      ],
      "source": [
        "n = int(input(\"Enter the number of rows: \"))\n",
        "\n",
        "for i in range(1, n+1):\n",
        "    for j in range(i):\n",
        "        print(chr(65 + i - 1), end=\" \")\n",
        "    print()\n"
      ]
    },
    {
      "cell_type": "code",
      "execution_count": null,
      "metadata": {
        "colab": {
          "base_uri": "https://localhost:8080/"
        },
        "id": "VdztRhxhou8X",
        "outputId": "8f2942b9-ae1e-4409-e1fc-f863fc441cb6"
      },
      "outputs": [
        {
          "name": "stdout",
          "output_type": "stream",
          "text": [
            "3\n",
            "A\n",
            "BB\n",
            "CCC\n"
          ]
        }
      ],
      "source": [
        "n = int(input())\n",
        "\n",
        "for i in range (1, n+1):\n",
        "    # inner loop\n",
        "    for j in range(1,i+1):\n",
        "        print(chr(65+i-1),end=\"\")\n",
        "    print()"
      ]
    },
    {
      "cell_type": "code",
      "execution_count": null,
      "metadata": {
        "colab": {
          "base_uri": "https://localhost:8080/"
        },
        "id": "gHQ0zBemqGed",
        "outputId": "a4535ae9-3817-4410-bb0a-73d87671fc4d"
      },
      "outputs": [
        {
          "name": "stdout",
          "output_type": "stream",
          "text": [
            "4\n",
            "1 0 \n",
            "2 2 0 \n",
            "3 0 3 0 \n",
            "4 0 0 4 0 \n"
          ]
        }
      ],
      "source": [
        "n=int(input())\n",
        "for i in range(1,n+1):\n",
        "    for j in range(0, i+1):\n",
        "        if j==0 or j==i-1:\n",
        "            print(i, end=\" \")\n",
        "        else:\n",
        "            print(\"0\", end=\" \")\n",
        "    print()"
      ]
    },
    {
      "cell_type": "code",
      "execution_count": null,
      "metadata": {
        "colab": {
          "base_uri": "https://localhost:8080/"
        },
        "id": "oe4GpxWG2Ktt",
        "outputId": "a4178dc5-7258-4761-f73b-29a4a8dc251f"
      },
      "outputs": [
        {
          "name": "stdout",
          "output_type": "stream",
          "text": [
            "Enter the number of rows: 4\n",
            "ABCD\n",
            "BCDE\n",
            "CDEF\n",
            "DEFG\n"
          ]
        }
      ],
      "source": [
        "n = int(input(\"Enter the number of rows: \"))\n",
        "\n",
        "for i in range(1, n+1):\n",
        "    for j in range(i, i + n):\n",
        "        print(chr(65 + j-1), end=\"\")\n",
        "    print()\n"
      ]
    },
    {
      "cell_type": "code",
      "execution_count": null,
      "metadata": {
        "colab": {
          "base_uri": "https://localhost:8080/"
        },
        "id": "WobOFUXqmD3i",
        "outputId": "70129ce7-df0a-41d7-f661-4b933e78a8a2"
      },
      "outputs": [
        {
          "name": "stdout",
          "output_type": "stream",
          "text": [
            "Enter the number of rows: 4\n",
            "A\n",
            "AB\n",
            "ABC\n",
            "ABCD\n"
          ]
        }
      ],
      "source": [
        "n = int(input(\"Enter the number of rows: \"))\n",
        "\n",
        "row = ''\n",
        "for i in range(n):\n",
        "    row += chr(65 + i)  # Append the current alphabet to the row\n",
        "    print(row)\n"
      ]
    },
    {
      "cell_type": "code",
      "execution_count": null,
      "metadata": {
        "colab": {
          "base_uri": "https://localhost:8080/"
        },
        "id": "njk4Aytumwhb",
        "outputId": "57c45602-61a0-4ad0-b8ff-480e1a498581"
      },
      "outputs": [
        {
          "name": "stdout",
          "output_type": "stream",
          "text": [
            "Enter the number of rows: 4\n",
            "A\n",
            "BC\n",
            "DEF\n",
            "GHIJ\n"
          ]
        }
      ],
      "source": [
        "n = int(input(\"Enter the number of rows: \"))\n",
        "\n",
        "current_alphabet = 65  # ASCII value for 'A'\n",
        "for i in range(n):\n",
        "    row = ''\n",
        "    for j in range(i+1):\n",
        "        row += chr(current_alphabet)\n",
        "        current_alphabet += 1\n",
        "    print(row)\n"
      ]
    },
    {
      "cell_type": "code",
      "execution_count": null,
      "metadata": {
        "colab": {
          "base_uri": "https://localhost:8080/"
        },
        "id": "zEcEMPv4noMU",
        "outputId": "d5eaac1a-2ff3-4744-b316-7f0e68fc61ab"
      },
      "outputs": [
        {
          "name": "stdout",
          "output_type": "stream",
          "text": [
            "Enter the number of rows: 4\n",
            "A\n",
            "BC\n",
            "DEF\n",
            "GHIJ\n"
          ]
        }
      ],
      "source": [
        "n = int(input(\"Enter the number of rows: \"))\n",
        "\n",
        "current_alphabet = 65  # ASCII value for 'A'\n",
        "for i in range(n):\n",
        "    row = ''\n",
        "    for j in range(i+1):\n",
        "        row += chr(current_alphabet)\n",
        "        current_alphabet += 1\n",
        "    print(row)\n"
      ]
    },
    {
      "cell_type": "code",
      "execution_count": null,
      "metadata": {
        "colab": {
          "base_uri": "https://localhost:8080/"
        },
        "id": "OBasDyXk4vtO",
        "outputId": "74c61a3b-1d66-4410-d484-36885a84e400"
      },
      "outputs": [
        {
          "name": "stdout",
          "output_type": "stream",
          "text": [
            "4\n",
            "  4 4 4 4   4 4 4 4 \n"
          ]
        }
      ],
      "source": [
        "n = int(input())\n",
        "for i in range(i, n+1):\n",
        "    for j in range(1, n-1):\n",
        "        print(\" \", end =\" \")\n",
        "        for k in range(1,i+1):\n",
        "            print(+i, end=\" \")\n",
        "    print()"
      ]
    },
    {
      "cell_type": "code",
      "execution_count": null,
      "metadata": {
        "colab": {
          "base_uri": "https://localhost:8080/"
        },
        "id": "TIjp1bP9o-wh",
        "outputId": "a967c09b-f811-4658-88b8-ceade3c72ac9"
      },
      "outputs": [
        {
          "name": "stdout",
          "output_type": "stream",
          "text": [
            "Interquartile Range (IQR): 13.0\n",
            "Lower Outlier Threshold: -14.0\n",
            "Upper Outlier Threshold: 38.0\n",
            "5.5 18.5\n"
          ]
        }
      ],
      "source": [
        "import numpy as np\n",
        "\n",
        "# Create a list of the first ten prime numbers\n",
        "prime_numbers = [2, 3, 5, 7, 11, 13, 17, 19, 23, 29]\n",
        "\n",
        "# Sort the list in ascending order\n",
        "sorted_numbers = np.sort(prime_numbers)\n",
        "\n",
        "# Calculate the first quartile (Q1) and third quartile (Q3)\n",
        "Q1 = np.percentile(sorted_numbers, 25)\n",
        "Q3 = np.percentile(sorted_numbers, 75)\n",
        "\n",
        "# Compute the interquartile range (IQR)\n",
        "IQR = Q3 - Q1\n",
        "\n",
        "# Determine the lower outlier threshold and upper outlier threshold\n",
        "lower_threshold = Q1 - 1.5 * IQR\n",
        "upper_threshold = Q3 + 1.5 * IQR\n",
        "\n",
        "# Print the results\n",
        "print(\"Interquartile Range (IQR):\", IQR)\n",
        "print(\"Lower Outlier Threshold:\", lower_threshold)\n",
        "print(\"Upper Outlier Threshold:\", upper_threshold)\n",
        "print(Q1,Q3)"
      ]
    },
    {
      "cell_type": "code",
      "execution_count": null,
      "metadata": {
        "colab": {
          "base_uri": "https://localhost:8080/",
          "height": 235
        },
        "id": "3AXpFFPK7jd7",
        "outputId": "9e3ad239-dab9-46cd-be80-b4c7f3805de0"
      },
      "outputs": [
        {
          "ename": "TypeError",
          "evalue": "ignored",
          "output_type": "error",
          "traceback": [
            "\u001b[0;31m---------------------------------------------------------------------------\u001b[0m",
            "\u001b[0;31mTypeError\u001b[0m                                 Traceback (most recent call last)",
            "\u001b[0;32m<ipython-input-15-846e81d1fce6>\u001b[0m in \u001b[0;36m<cell line: 8>\u001b[0;34m()\u001b[0m\n\u001b[1;32m      6\u001b[0m \u001b[0mn\u001b[0m \u001b[0;34m=\u001b[0m \u001b[0mlen\u001b[0m\u001b[0;34m(\u001b[0m\u001b[0mdata\u001b[0m\u001b[0;34m)\u001b[0m \u001b[0;34m/\u001b[0m \u001b[0;36m2\u001b[0m\u001b[0;34m\u001b[0m\u001b[0;34m\u001b[0m\u001b[0m\n\u001b[1;32m      7\u001b[0m \u001b[0;31m# First quartile (Q1)\u001b[0m\u001b[0;34m\u001b[0m\u001b[0;34m\u001b[0m\u001b[0m\n\u001b[0;32m----> 8\u001b[0;31m \u001b[0mQ1\u001b[0m \u001b[0;34m=\u001b[0m \u001b[0mnp\u001b[0m\u001b[0;34m.\u001b[0m\u001b[0mmedian\u001b[0m\u001b[0;34m(\u001b[0m\u001b[0mdata\u001b[0m\u001b[0;34m[\u001b[0m\u001b[0;34m:\u001b[0m\u001b[0mn\u001b[0m\u001b[0;34m]\u001b[0m\u001b[0;34m)\u001b[0m\u001b[0;34m\u001b[0m\u001b[0;34m\u001b[0m\u001b[0m\n\u001b[0m\u001b[1;32m      9\u001b[0m \u001b[0;34m\u001b[0m\u001b[0m\n\u001b[1;32m     10\u001b[0m \u001b[0;31m# Third quartile (Q3)\u001b[0m\u001b[0;34m\u001b[0m\u001b[0;34m\u001b[0m\u001b[0m\n",
            "\u001b[0;31mTypeError\u001b[0m: slice indices must be integers or None or have an __index__ method"
          ]
        }
      ],
      "source": [
        "from itertools import count\n",
        "# Import the numpy library as np\n",
        "import numpy as np\n",
        "\n",
        "data = [2, 3, 5, 7, 11, 13, 17, 19, 23, 29]\n",
        "n = len(data) / 2\n",
        "# First quartile (Q1)\n",
        "Q1 = np.median(data[:n])\n",
        "\n",
        "# Third quartile (Q3)\n",
        "Q3 = np.median(data[n:])\n",
        "\n",
        "# Interquartile range (IQR)\n",
        "IQR = Q3 - Q1\n",
        "\n",
        "print(IQR)\n"
      ]
    },
    {
      "cell_type": "code",
      "execution_count": null,
      "metadata": {
        "colab": {
          "base_uri": "https://localhost:8080/"
        },
        "id": "mDUbfxlZ72L_",
        "outputId": "4209bd87-894e-4ea0-c517-90c0afdfa4d8"
      },
      "outputs": [
        {
          "name": "stdout",
          "output_type": "stream",
          "text": [
            "14.0\n",
            "Lower Outlier Threshold: -16.0\n",
            "Upper Outlier Threshold: 40.0\n",
            "5.0 19.0\n"
          ]
        }
      ],
      "source": [
        "import numpy as np\n",
        "\n",
        "data = [2, 3, 5, 7, 11, 13, 17, 19, 23, 29]\n",
        "n = len(data) // 2\n",
        "\n",
        "Q1 = np.median(data[:n])\n",
        "\n",
        "Q3 = np.median(data[n:])\n",
        "\n",
        "#(IQR)\n",
        "IQR = Q3 - Q1\n",
        "\n",
        "\n",
        "lower_threshold = Q1 - 1.5 * IQR\n",
        "upper_threshold = Q3 + 1.5 * IQR\n",
        "\n",
        "\n",
        "print(IQR)\n",
        "print(\"Lower Outlier Threshold:\", lower_threshold)\n",
        "print(\"Upper Outlier Threshold:\", upper_threshold)\n",
        "print(Q1,Q3)\n"
      ]
    },
    {
      "cell_type": "code",
      "execution_count": null,
      "metadata": {
        "colab": {
          "base_uri": "https://localhost:8080/"
        },
        "id": "qwQvYJzi8J6r",
        "outputId": "76aa9d8d-96fd-4ab7-a127-9a002b53bf40"
      },
      "outputs": [
        {
          "name": "stdout",
          "output_type": "stream",
          "text": [
            "Length of the list: 5.0\n"
          ]
        }
      ],
      "source": [
        "data = [2, 3, 5, 7, 11, 13, 17, 19, 23, 29]\n",
        "\n",
        "# Find the length or count of the list\n",
        "length = len(data) / 2\n",
        "\n",
        "# Print the length or count\n",
        "print(\"Length of the list:\", length)\n"
      ]
    },
    {
      "cell_type": "code",
      "execution_count": null,
      "metadata": {
        "colab": {
          "base_uri": "https://localhost:8080/"
        },
        "id": "mFfRjNWXdNax",
        "outputId": "9a1f75be-c187-4235-f56f-aed732a6e784"
      },
      "outputs": [
        {
          "name": "stdout",
          "output_type": "stream",
          "text": [
            "5\n",
            "11111\n",
            "0000\n",
            "111\n",
            "00\n",
            "1\n"
          ]
        }
      ],
      "source": [
        "n = int(input())\n",
        "for i in range(n, 0,-1):\n",
        "\n",
        "    for j in range(1,i+1):\n",
        "        if i%2 !=0:\n",
        "            print(\"1\", end = \"\")\n",
        "        else:\n",
        "            print(\"0\",  end = \"\")\n",
        "    print()"
      ]
    },
    {
      "cell_type": "code",
      "execution_count": null,
      "metadata": {
        "colab": {
          "background_save": true
        },
        "id": "P64ccykEfIFA",
        "outputId": "96527a60-b1db-4be0-f8c0-ad670b048e0a"
      },
      "outputs": [
        {
          "name": "stdout",
          "output_type": "stream",
          "text": [
            "1 2 3 4 5 \n",
            "1 2 3 4 \n",
            "1 2 3 \n",
            "1 2 \n",
            "1 \n"
          ]
        }
      ],
      "source": [
        "n = int(input())\n",
        "for i in range(n, 0, -1):\n",
        "    for j in range(1,i+1):\n",
        "        print(j,end=\" \")\n"
      ]
    },
    {
      "cell_type": "code",
      "source": [
        "#Please ensure the platform IDE is in Python 3.x mode.\n",
        "#If you face any issue here, you may write the code on colab/jupyter.\n",
        "#Then, paste the code snippet here and run test cases.\n",
        "\n",
        "nums = eval(input())\n",
        "\n",
        "def singleNumber(nums):\n",
        "    counts = {}\n",
        "    for num in nums:\n",
        "        if num in counts:\n",
        "            counts[num] += 1\n",
        "        else:\n",
        "            counts[num] = 1\n",
        "\n",
        "    for num, count in counts.items():\n",
        "        if count == 1:\n",
        "            return num\n",
        "\n",
        "single_num = singleNumber(nums)\n",
        "print(single_num)"
      ],
      "metadata": {
        "id": "6Cyi_fHfwU0P"
      },
      "execution_count": null,
      "outputs": []
    }
  ],
  "metadata": {
    "colab": {
      "provenance": [],
      "authorship_tag": "ABX9TyPJVIaeAsjRNIzpNv6d2dJf",
      "include_colab_link": true
    },
    "kernelspec": {
      "display_name": "Python 3",
      "name": "python3"
    },
    "language_info": {
      "name": "python"
    }
  },
  "nbformat": 4,
  "nbformat_minor": 0
}