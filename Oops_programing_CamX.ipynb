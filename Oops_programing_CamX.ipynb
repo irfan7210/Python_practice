{
  "nbformat": 4,
  "nbformat_minor": 0,
  "metadata": {
    "colab": {
      "provenance": [],
      "toc_visible": true,
      "authorship_tag": "ABX9TyNFR+Trr+aPIzCMBhEPgxpy",
      "include_colab_link": true
    },
    "kernelspec": {
      "name": "python3",
      "display_name": "Python 3"
    },
    "language_info": {
      "name": "python"
    }
  },
  "cells": [
    {
      "cell_type": "markdown",
      "metadata": {
        "id": "view-in-github",
        "colab_type": "text"
      },
      "source": [
        "<a href=\"https://colab.research.google.com/github/irfan7210/Python_practice/blob/main/Oops_programing_CamX.ipynb\" target=\"_parent\"><img src=\"https://colab.research.google.com/assets/colab-badge.svg\" alt=\"Open In Colab\"/></a>"
      ]
    },
    {
      "cell_type": "markdown",
      "source": [
        "# Class"
      ],
      "metadata": {
        "id": "aO3dg_6MAqEn"
      }
    },
    {
      "cell_type": "markdown",
      "source": [
        "**class**\n",
        "\n",
        "In Python programming, a class is a blueprint for creating objects (instances) that have similar attributes and behaviors. It is a way to define a new data type.\n",
        "\n",
        "A class consists of variables (known as attributes) and functions (known as methods). The attributes represent the state of the object, while the methods define the behavior or actions that the object can perform.\n",
        "\n",
        "\n",
        "**function and method**\n",
        "\n",
        "In Python, both methods and functions are blocks of reusable code that perform a specific task. However, there is a subtle difference between them based on how they are defined and used.\n",
        "\n",
        "A function is a block of code that takes in some input (arguments), performs a specific task, and returns a value (optional). Functions can be defined outside of classes and can be called independently.\n",
        "\n",
        "On the other hand, a method is a function that is defined inside a class and is associated with an object (instance) of that class. Methods are used to define the behavior of objects and can access and modify the object's attributes.\n",
        "\n",
        "**cunstructor**\n",
        "\n",
        "A constructor is a special method in Python that is automatically called when an object is created from a class. It is used to initialize the attributes of the object.\n",
        "\n",
        "In Python, the constructor method is named `__init__`. It takes the `self` parameter as the first argument, followed by any other parameters that you want to pass when creating an object."
      ],
      "metadata": {
        "id": "Zz6yU4UUwJCM"
      }
    },
    {
      "cell_type": "code",
      "execution_count": 1,
      "metadata": {
        "id": "xQZ5pohD4tmy"
      },
      "outputs": [],
      "source": [
        "class Atm:\n",
        "  def __init__ (self):\n",
        "    self.pin = \"\"\n",
        "    self.balance = 0\n",
        "    self.menu()\n",
        "\n",
        "  def menu(self):\n",
        "    user_input = input(\n",
        "        '''\n",
        "        Hello! Please chhose from below\n",
        "\n",
        "        1.Enter 1 to create Pin\n",
        "        2.Enter 2 to deposit\n",
        "        3.Enter 3 to withdraw\n",
        "        4.Enter 4 to create Pin\n",
        "        5.Enter 5 to exit\n",
        "        '''\n",
        "    )\n",
        "    if user_input==\"1\":\n",
        "      self.create_pin()\n",
        "    elif user_input==\"2\":\n",
        "      self.deposit()\n",
        "    elif user_input==\"3\":\n",
        "      self.withdraw()\n",
        "    elif user_input==\"4\":\n",
        "      self.check_balance()\n",
        "    else:\n",
        "      print(\"bye\")\n",
        "\n",
        "  def create_pin(self):\n",
        "    self.pin = input(\"Enter the Pin: \")\n",
        "    print(\"pin succesfully created\")\n",
        "  def deposit(self):\n",
        "    temp=input(\"enter your Pin: \")\n",
        "    if temp == self.pin:\n",
        "      amount=int(input(\"Enter the Amount: \"))\n",
        "      self.balance = self.balance + amount\n",
        "      print(\"Deposit succesfull\")\n",
        "    else:\n",
        "      print(\"Invalid Pin\")\n",
        "  def withdraw(self):\n",
        "    temp = input(\"enter your pin: \")\n",
        "    if temp == self.pin:\n",
        "      amount = int(input(\"enter the amount: \"))\n",
        "      if amount < self.balance:\n",
        "        print(\"Operation Succesful\")\n",
        "      else:\n",
        "        print(\"insufficient fund\")\n",
        "    else:\n",
        "      print(\"invalid pin: \")\n",
        "  def check_balance(self):\n",
        "    temp = input(\"enter your pin: \")\n",
        "    if temp == self.pin:\n",
        "      print(self.balance)\n",
        "    else:\n",
        "      print(\"invalid pin\")\n"
      ]
    },
    {
      "cell_type": "code",
      "source": [
        "sbi = Atm()"
      ],
      "metadata": {
        "colab": {
          "base_uri": "https://localhost:8080/"
        },
        "id": "mE_rS70OGYjx",
        "outputId": "8dc65e80-f81b-4c2e-cf48-82794a4140b6"
      },
      "execution_count": null,
      "outputs": [
        {
          "output_type": "stream",
          "name": "stdout",
          "text": [
            "\n",
            "        Hello! Please chhose from below\n",
            "        \n",
            "        1.Enter 1 to create Pin\n",
            "        2.Enter 2 to deposit\n",
            "        3.Enter 3 to withdraw\n",
            "        4.Enter 4 to create Pin\n",
            "        5.Enter 5 to exit\n",
            "        1\n",
            "Enter the Pin: 12345\n",
            "pin succesfully created\n"
          ]
        }
      ]
    },
    {
      "cell_type": "code",
      "source": [
        "sbi.deposit()"
      ],
      "metadata": {
        "colab": {
          "base_uri": "https://localhost:8080/"
        },
        "id": "b-TaXQh0KV80",
        "outputId": "64844f2f-1db1-41c7-f636-c37e30940a34"
      },
      "execution_count": null,
      "outputs": [
        {
          "output_type": "stream",
          "name": "stdout",
          "text": [
            "enter your Pin12345\n",
            "Enter the Amount500000\n",
            "Deposit succesfull\n"
          ]
        }
      ]
    },
    {
      "cell_type": "code",
      "source": [
        "sbi.withdraw()"
      ],
      "metadata": {
        "colab": {
          "base_uri": "https://localhost:8080/"
        },
        "id": "EEZP_I59KGg9",
        "outputId": "89a6ffa8-90dc-46da-e4f6-061078a20175"
      },
      "execution_count": null,
      "outputs": [
        {
          "output_type": "stream",
          "name": "stdout",
          "text": [
            "enter your pin12345\n",
            "enter the amount50000\n",
            "Operation Succesful\n"
          ]
        }
      ]
    },
    {
      "cell_type": "code",
      "source": [
        "sbi.check_balance()"
      ],
      "metadata": {
        "colab": {
          "base_uri": "https://localhost:8080/"
        },
        "id": "jl1Z3wylKh_r",
        "outputId": "e1ebddd0-7498-49d6-b02d-893f54a8d9ff"
      },
      "execution_count": null,
      "outputs": [
        {
          "output_type": "stream",
          "name": "stdout",
          "text": [
            "enter your pin12345\n",
            "0\n"
          ]
        }
      ]
    },
    {
      "cell_type": "markdown",
      "source": [
        "# Magic method"
      ],
      "metadata": {
        "id": "OindQ0cPA1bi"
      }
    },
    {
      "cell_type": "markdown",
      "source": [
        "**make a class to show multiple operation in fraction**"
      ],
      "metadata": {
        "id": "4KohRtsTMgtn"
      }
    },
    {
      "cell_type": "code",
      "source": [
        "class Fraction:\n",
        "  def __init_(self, n, d):\n",
        "    self.num = n\n",
        "    self.den = d\n",
        "  def __str__(self):\n",
        "    return \"{}/{}\".formate(self.num,self.den)\n",
        "  def __add__(self,other):\n",
        "    tem_num = self.num*other.den + other.num*self.den\n",
        "    return \"{}/{}\".formate(tem_num)\n",
        "\n"
      ],
      "metadata": {
        "id": "80is39LoN6Ya"
      },
      "execution_count": 2,
      "outputs": []
    },
    {
      "cell_type": "markdown",
      "source": [
        "# instance variables:\n",
        "\n",
        "In Python, instance variables are variables that belong to an instance of a class. They are also known as object attributes because they store data that is specific to an instance of the class. Each instance of a class can have its own set of instance variables, and they are defined within the methods of the class using the self keyword.\n",
        "\n",
        "\n",
        "class MyClass:\n",
        "\n",
        "    def __init__(self, var1, var2):\n",
        "\n",
        "        self.var1 = var1  # var1 is an instance variable\n",
        "\n",
        "        self.var2 = var2  # var2 is another instance variable"
      ],
      "metadata": {
        "id": "isPYgS-fPlTl"
      }
    },
    {
      "cell_type": "markdown",
      "source": [
        "# Encapsulation:\n",
        "\n",
        "Encapsulation is one of the fundamental principles of object-oriented programming (OOP) that aims to restrict access to certain parts of an object, such as its attributes or methods, in order to prevent unauthorized modification or access. In Python, encapsulation is achieved through the use of access modifiers and conventions rather than strict enforcement, as Python does not provide strict access control like some other languages (e.g., Java or C++).\n",
        "\n",
        "\n",
        "\n"
      ],
      "metadata": {
        "id": "m7fAEuwcQS7L"
      }
    },
    {
      "cell_type": "code",
      "source": [
        "class Atm:\n",
        "  def __init__ (self):\n",
        "    self.__pin = \"\"\n",
        "    self.__balance = 0\n",
        "    self.__menu()\n",
        "\n",
        "  def get_pin(self):\n",
        "    return self.__pin\n",
        "  def set_pin(self, new_pin):\n",
        "    if type(new_pin)==str:\n",
        "      self.__pin = new_pin\n",
        "      print(\"PIN CHANGED\")\n",
        "    else:\n",
        "      print(\"not allowed\")\n",
        "\n",
        "  def menu(self):\n",
        "    user_input = input(\n",
        "        '''\n",
        "        Hello! Please chhose from below\n",
        "\n",
        "        1.Enter 1 to create Pin\n",
        "        2.Enter 2 to deposit\n",
        "        3.Enter 3 to withdraw\n",
        "        4.Enter 4 to create Pin\n",
        "        5.Enter 5 to exit\n",
        "        '''\n",
        "    )\n",
        "    if user_input==\"1\":\n",
        "      self.create_pin()\n",
        "    elif user_input==\"2\":\n",
        "      self.deposit()\n",
        "    elif user_input==\"3\":\n",
        "      self.withdraw()\n",
        "    elif user_input==\"4\":\n",
        "      self.check_balance()\n",
        "    else:\n",
        "      print(\"bye\")\n",
        "\n",
        "  def create_pin(self):\n",
        "    self.pin = input(\"Enter the Pin: \")\n",
        "    print(\"pin succesfully created\")\n",
        "  def deposit(self):\n",
        "    temp=input(\"enter your Pin: \")\n",
        "    if temp == self.pin:\n",
        "      amount=int(input(\"Enter the Amount: \"))\n",
        "      self.balance = self.balance + amount\n",
        "      print(\"Deposit succesfull\")\n",
        "    else:\n",
        "      print(\"Invalid Pin\")\n",
        "  def withdraw(self):\n",
        "    temp = input(\"enter your pin: \")\n",
        "    if temp == self.pin:\n",
        "      amount = int(input(\"enter the amount: \"))\n",
        "      if amount < self.balance:\n",
        "        print(\"Operation Succesful\")\n",
        "      else:\n",
        "        print(\"insufficient fund\")\n",
        "    else:\n",
        "      print(\"invalid pin: \")\n",
        "  def check_balance(self):\n",
        "    temp = input(\"enter your pin: \")\n",
        "    if temp == self.pin:\n",
        "      print(self.balance)\n",
        "    else:\n",
        "      print(\"invalid pin\")\n"
      ],
      "metadata": {
        "id": "AEjDUU9OPgh8"
      },
      "execution_count": null,
      "outputs": []
    },
    {
      "cell_type": "markdown",
      "source": [
        "In Python, getter and setter methods are used to control access to class attributes or instance variables. They allow you to encapsulate and protect your class's data by providing controlled access to it, rather than allowing direct access to the attributes. This helps you maintain data integrity and apply validation or logic when getting or setting attribute values.\n",
        "\n",
        "Here's how you can define getter and setter methods in Python:\n",
        "\n",
        "1. Getter Method:\n",
        "   - A getter method is used to retrieve the value of an attribute.\n",
        "   - It typically has a naming convention like `get_attribute_name()`.\n",
        "   - Getter methods are decorated with `@property`.\n",
        "\n",
        "2. Setter Method:\n",
        "   - A setter method is used to set the value of an attribute.\n",
        "   - It typically has a naming convention like `set_attribute_name(value)`.\n",
        "   - Setter methods are decorated with `@attribute_name.setter`.\n",
        "\n",
        "Here's an example of a class that uses getter and setter methods:\n",
        "\n",
        "```python\n",
        "class Circle:\n",
        "    def __init__(self, radius):\n",
        "        self._radius = radius  # Private attribute with an underscore prefix\n",
        "\n",
        "    @property\n",
        "    def radius(self):\n",
        "        \"\"\"Getter method for radius attribute\"\"\"\n",
        "        return self._radius\n",
        "\n",
        "    @radius.setter\n",
        "    def radius(self, value):\n",
        "        \"\"\"Setter method for radius attribute\"\"\"\n",
        "        if value < 0:\n",
        "            raise ValueError(\"Radius cannot be negative\")\n",
        "        self._radius = value\n",
        "\n",
        "    def area(self):\n",
        "        return 3.14159 * self._radius ** 2\n",
        "\n",
        "# Create an instance of the Circle class\n",
        "circle = Circle(5)\n",
        "\n",
        "# Using the getter method to access the radius attribute\n",
        "print(circle.radius)  # Output: 5\n",
        "\n",
        "# Using the setter method to set a new value for the radius attribute\n",
        "circle.radius = 7\n",
        "print(circle.radius)  # Output: 7\n",
        "\n",
        "# Trying to set a negative value using the setter method (will raise a ValueError)\n",
        "circle.radius = -2  # This will raise an error\n",
        "```\n",
        "\n",
        "In this example, the `radius` attribute is encapsulated with a getter and setter. The getter allows you to access the radius, and the setter allows you to set a new value for the radius while applying validation to ensure it's non-negative.\n",
        "\n",
        "Remember that using getters and setters can help ensure the integrity of your class's data and allow you to add custom logic when getting or setting attribute values. However, Python also supports direct attribute access, so it's essential to follow naming conventions (like using an underscore prefix) to indicate that an attribute should not be accessed directly from outside the class."
      ],
      "metadata": {
        "id": "P21UQbKv7RyI"
      }
    },
    {
      "cell_type": "markdown",
      "source": [
        "# pass by reference"
      ],
      "metadata": {
        "id": "M44IWZ3M8BHN"
      }
    },
    {
      "cell_type": "markdown",
      "source": [
        "In Python, variables are passed by object reference. This means that when you pass a variable to a function, you are actually passing a reference to the object the variable points to, rather than a copy of the object itself. This behavior can sometimes be confused with \"pass by reference\" as seen in some other programming languages, but it's important to understand the distinction.\n",
        "\n",
        "Here's a simple explanation of how this works in Python:\n",
        "\n",
        "1. **Immutable Objects**: When you pass immutable objects like numbers, strings, or tuples to a function, you cannot modify the original object inside the function because these objects are immutable. Instead, any modifications create a new object and bind it to the same variable name within the function's local scope. The original variable outside the function remains unchanged.\n",
        "\n",
        "   ```python\n",
        "   def modify_immutable(x):\n",
        "       x = x + 1  # This creates a new object and binds it to the local variable x\n",
        "       \n",
        "   num = 5\n",
        "   modify_immutable(num)\n",
        "   print(num)  # Output: 5 (num remains unchanged)\n",
        "   ```\n",
        "\n",
        "2. **Mutable Objects**: When you pass mutable objects like lists or dictionaries to a function, you can modify the original object inside the function. This is because you're still working with the same object, just accessed via a different reference.\n",
        "\n",
        "   ```python\n",
        "   def modify_mutable(my_list):\n",
        "       my_list.append(4)  # This modifies the original list\n",
        "   \n",
        "   my_list = [1, 2, 3]\n",
        "   modify_mutable(my_list)\n",
        "   print(my_list)  # Output: [1, 2, 3, 4] (my_list has been modified)\n",
        "   ```\n",
        "\n",
        "It's important to note that if you reassign a new object to the reference within the function, it won't affect the original object outside the function.\n",
        "\n",
        "```python\n",
        "def reassign_list(my_list):\n",
        "    my_list = [4, 5, 6]  # This creates a new list and assigns it to the local variable my_list\n",
        "\n",
        "my_list = [1, 2, 3]\n",
        "reassign_list(my_list)\n",
        "print(my_list)  # Output: [1, 2, 3] (my_list remains unchanged)\n",
        "```\n",
        "\n",
        "In summary, Python uses a combination of reference passing and immutable/mutable object behavior. Immutable objects can't be modified within a function, while mutable objects can be modified. Understanding this distinction is important when working with Python functions to avoid unexpected behavior."
      ],
      "metadata": {
        "id": "0BRGrhcoHiGy"
      }
    },
    {
      "cell_type": "code",
      "source": [
        "class Customer:\n",
        "  def __init__ (self,name,gender):\n",
        "    self.name=name\n",
        "    self.gender=gender\n",
        "def greet(customer):\n",
        "  if customer.gender == \"male\":\n",
        "    print(\"hello\", customer.name, \"sir\")\n",
        "  else:\n",
        "    print(\"Hello\", customer.name, \"madam\")\n",
        "  cust2 = Customer(\"Nitish\",\"male\")\n",
        "  return cust2\n",
        "cust = Customer(\"Ankita\", \"female\")\n",
        "new_cust = greet(cust)\n",
        "print(new_cust.name)"
      ],
      "metadata": {
        "colab": {
          "base_uri": "https://localhost:8080/"
        },
        "id": "FcaSMDQ1KAeH",
        "outputId": "b4d6cfe3-b81f-4bca-f85d-38c1b3f84a71"
      },
      "execution_count": null,
      "outputs": [
        {
          "output_type": "stream",
          "name": "stdout",
          "text": [
            "Hello Ankita madam\n",
            "Nitish\n"
          ]
        }
      ]
    },
    {
      "cell_type": "markdown",
      "source": [
        "# Collection of object"
      ],
      "metadata": {
        "id": "pkmxPtqROiN7"
      }
    },
    {
      "cell_type": "markdown",
      "source": [
        "In Python, you can create a collection of objects using various data structures. The choice of data structure depends on your specific needs and the characteristics of the objects you want to store. Here are some common data structures for collections of objects in Python"
      ],
      "metadata": {
        "id": "jY6lh8-fQXc6"
      }
    },
    {
      "cell_type": "code",
      "source": [
        "class Customer:\n",
        "  def __init__ (self, name, age):\n",
        "    self.age = age\n",
        "    self.name = name\n",
        "\n",
        "  def intro(self):\n",
        "   print(\"I, am\", self.name,\"and i am \", self.age)\n",
        "c1 = Customer(\"Irfan\",26)\n",
        "c2 = Customer(\"Dileep\", 27)\n",
        "c3 = Customer(\"Osama\", 75)\n",
        "\n",
        "L= [c1,c2,c3]\n",
        "for i in L:\n",
        "  print(i.name,i.age)\n",
        "  i.intro()"
      ],
      "metadata": {
        "colab": {
          "base_uri": "https://localhost:8080/"
        },
        "id": "-6Bdr-qiL8A5",
        "outputId": "e9589968-d6bd-443c-8d2f-87797180e37b"
      },
      "execution_count": null,
      "outputs": [
        {
          "output_type": "stream",
          "name": "stdout",
          "text": [
            "Irfan 26\n",
            "I, am Irfan and i am  26\n",
            "Dileep 27\n",
            "I, am Dileep and i am  27\n",
            "Osama 75\n",
            "I, am Osama and i am  75\n"
          ]
        }
      ]
    },
    {
      "cell_type": "markdown",
      "source": [
        "# Relationship:\n",
        "\n",
        " In object-oriented programming (OOP), relationships between classes are established to model the interactions and dependencies between objects. Python, being an object-oriented programming language, supports several types of relationships between classes. The main relationships in OOP Python are:\n",
        "\n",
        "1. Inheritance:\n",
        "   - Inheritance is a mechanism that allows a new class (subclass or derived class) to inherit properties and behaviors (attributes and methods) from an existing class (base class or parent class). It promotes code reuse and establishes an \"is-a\" relationship.\n",
        "   - Example:\n",
        "     ```python\n",
        "     class Animal:\n",
        "         def speak(self):\n",
        "             pass\n",
        "\n",
        "     class Dog(Animal):\n",
        "         def speak(self):\n",
        "             return \"Woof!\"\n",
        "     ```\n",
        "\n",
        "2. Composition:\n",
        "   - Composition is a relationship where one class contains an instance of another class as one of its attributes. It represents a \"has-a\" relationship, where one class is composed of another.\n",
        "   - Example:\n",
        "     ```python\n",
        "     class Engine:\n",
        "         def start(self):\n",
        "             print(\"Engine started\")\n",
        "\n",
        "     class Car:\n",
        "         def __init__(self):\n",
        "             self.engine = Engine()\n",
        "\n",
        "         def drive(self):\n",
        "             print(\"Car is moving\")\n",
        "\n",
        "     my_car = Car()\n",
        "     my_car.drive()\n",
        "     my_car.engine.start()\n",
        "     ```\n",
        "\n",
        "3. Aggregation:\n",
        "   - Aggregation is a type of composition where a class contains another class as an attribute, but the contained class can exist independently. It represents a \"has-a\" relationship without strong ownership.\n",
        "   - Example:\n",
        "     ```python\n",
        "     class Department:\n",
        "         def __init__(self, name):\n",
        "             self.name = name\n",
        "\n",
        "     class University:\n",
        "         def __init__(self):\n",
        "             self.departments = []\n",
        "\n",
        "         def add_department(self, department):\n",
        "             self.departments.append(department)\n",
        "\n",
        "     cs_department = Department(\"Computer Science\")\n",
        "     university = University()\n",
        "     university.add_department(cs_department)\n",
        "     ```\n",
        "\n",
        "4. Association:\n",
        "   - Association is a relationship where classes are loosely connected and interact with each other, but they are not part of each other. It represents a \"uses\" relationship.\n",
        "   - Example:\n",
        "     ```python\n",
        "     class Student:\n",
        "         def __init__(self, name):\n",
        "             self.name = name\n",
        "\n",
        "     class Course:\n",
        "         def __init__(self, name):\n",
        "             self.name = name\n",
        "\n",
        "     class Enrollment:\n",
        "         def __init__(self, student, course):\n",
        "             self.student = student\n",
        "             self.course = course\n",
        "\n",
        "     student1 = Student(\"Alice\")\n",
        "     course1 = Course(\"Math\")\n",
        "     enrollment1 = Enrollment(student1, course1)\n",
        "     ```\n",
        "\n",
        "These are the fundamental types of relationships in OOP Python. Depending on your application, you may use one or more of these relationships to model your classes and their interactions effectively. Each type of relationship serves a specific purpose and helps in organizing and designing object-oriented systems."
      ],
      "metadata": {
        "id": "ISleZsJQQWIP"
      }
    },
    {
      "cell_type": "markdown",
      "source": [
        "**Aggregation**"
      ],
      "metadata": {
        "id": "7-Hgf5mdBsHV"
      }
    },
    {
      "cell_type": "code",
      "source": [
        "class Customer:\n",
        "  def __init__ (self, name, gender, address):\n",
        "    self.name = name\n",
        "    self.gender = gender\n",
        "    self.address = address\n",
        "  def edit_profile(self,new_name,new_city,new_pin,new_state):\n",
        "    self.name = new_name\n",
        "    self.address.change_address(new_city,new_pin,new_state)\n",
        "\n",
        "class Address:\n",
        "  def __init__ (self, city, pincode,state):\n",
        "    self.city = city\n",
        "    self.pincode = pincode\n",
        "    self.state = state\n",
        "  def change_address(self, new_city,new_pin,new_state):\n",
        "    self.city=new_city\n",
        "    self.pincode=new_pin\n",
        "    self.state=new_state\n",
        "\n",
        "add = Address(\"kollata\",700156,\"wb\")\n",
        "cust = Customer(\"nitish\",\"male\",add)\n",
        "\n",
        "print(cust.address.pincode)\n",
        "cust.edit_profile(\"ankit\",\"Gurgaon\",120123,\"Haryana\")\n",
        "print(cust.address.pincode)\n"
      ],
      "metadata": {
        "colab": {
          "base_uri": "https://localhost:8080/"
        },
        "id": "Sh4waaJiRBeX",
        "outputId": "1a76f8dd-3b68-4fa9-fad8-ae5e9a55b82f"
      },
      "execution_count": null,
      "outputs": [
        {
          "output_type": "stream",
          "name": "stdout",
          "text": [
            "700156\n",
            "120123\n"
          ]
        }
      ]
    },
    {
      "cell_type": "markdown",
      "source": [],
      "metadata": {
        "id": "6KH4gUhFCKa3"
      }
    },
    {
      "cell_type": "markdown",
      "source": [
        "# Polymorphism"
      ],
      "metadata": {
        "id": "GKan3vhdqWjO"
      }
    },
    {
      "cell_type": "markdown",
      "source": [
        "# Inheritance"
      ],
      "metadata": {
        "id": "7e4uW3hgaE4x"
      }
    },
    {
      "cell_type": "markdown",
      "source": [
        "Inheritance is a fundamental concept in object-oriented programming (OOP) that allows you to create a new class (subclass or derived class) by inheriting properties and behaviors (attributes and methods) from an existing class (base class or parent class). Inheritance is used to establish an \"is-a\" relationship between classes, where the subclass is a specialized version of the base class."
      ],
      "metadata": {
        "id": "VtZE1oH7btIl"
      }
    },
    {
      "cell_type": "code",
      "source": [
        "class user:\n",
        "  def login(self):\n",
        "    print(\"login\")\n",
        "  def register(self):\n",
        "    print(\"Register\")\n",
        "class Student(user):\n",
        "  def enroll(self):\n",
        "    print(\"enroll\")\n",
        "  def review(self):\n",
        "    print(\"Review\")\n",
        "\n",
        "stu1 = Student()\n",
        "stu1.enroll()\n",
        "stu1.login()\n",
        "stu1.register()\n"
      ],
      "metadata": {
        "colab": {
          "base_uri": "https://localhost:8080/"
        },
        "id": "szNfjDbqaKJQ",
        "outputId": "c08a279f-d026-4a7d-95d5-98ab9ed45feb"
      },
      "execution_count": null,
      "outputs": [
        {
          "output_type": "stream",
          "name": "stdout",
          "text": [
            "enroll\n",
            "login\n",
            "Register\n"
          ]
        }
      ]
    },
    {
      "cell_type": "markdown",
      "source": [
        "**class diagram**\n",
        "\n",
        "![image.png](data:image/png;base64,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)"
      ],
      "metadata": {
        "id": "prqUwkc7cGmz"
      }
    },
    {
      "cell_type": "code",
      "source": [
        "class Phone:\n",
        "  def __init__ (self,price,brand,camera):\n",
        "    print(\"inside phone constructor\")\n",
        "    self.price=price\n",
        "    self.brand=brand\n",
        "    self.camera = camera\n",
        "class   SmartPhone(Phone):\n",
        "  pass\n",
        "\n",
        "s = SmartPhone(20000, \"MotoG\",50)\n",
        "print(s.brand)"
      ],
      "metadata": {
        "colab": {
          "base_uri": "https://localhost:8080/"
        },
        "id": "8Jps10rsbu9S",
        "outputId": "97603e6d-9f89-446e-b524-8ff8891e61fa"
      },
      "execution_count": null,
      "outputs": [
        {
          "output_type": "stream",
          "name": "stdout",
          "text": [
            "inside phone constructor\n",
            "MotoG\n"
          ]
        }
      ]
    },
    {
      "cell_type": "code",
      "source": [
        "# if we have private method so do child class can access them or not?\n",
        "class Phone:\n",
        "  def __init__ (self,price,brand,camera):\n",
        "    print(\"inside phone constructor\")\n",
        "    self.price=price\n",
        "    self.__brand=brand\n",
        "    self.camera = camera\n",
        "class   SmartPhone(Phone):\n",
        "  pass\n",
        "\n",
        "s = SmartPhone(20000, \"MotoG\",50)\n",
        "print(s.brand)"
      ],
      "metadata": {
        "colab": {
          "base_uri": "https://localhost:8080/",
          "height": 227
        },
        "id": "jrlLdzz0DtLd",
        "outputId": "c9795b06-ef05-41a5-e5e5-47b6a96f9d01"
      },
      "execution_count": 3,
      "outputs": [
        {
          "output_type": "stream",
          "name": "stdout",
          "text": [
            "inside phone constructor\n"
          ]
        },
        {
          "output_type": "error",
          "ename": "AttributeError",
          "evalue": "ignored",
          "traceback": [
            "\u001b[0;31m---------------------------------------------------------------------------\u001b[0m",
            "\u001b[0;31mAttributeError\u001b[0m                            Traceback (most recent call last)",
            "\u001b[0;32m<ipython-input-3-8305b8150fda>\u001b[0m in \u001b[0;36m<cell line: 12>\u001b[0;34m()\u001b[0m\n\u001b[1;32m     10\u001b[0m \u001b[0;34m\u001b[0m\u001b[0m\n\u001b[1;32m     11\u001b[0m \u001b[0ms\u001b[0m \u001b[0;34m=\u001b[0m \u001b[0mSmartPhone\u001b[0m\u001b[0;34m(\u001b[0m\u001b[0;36m20000\u001b[0m\u001b[0;34m,\u001b[0m \u001b[0;34m\"MotoG\"\u001b[0m\u001b[0;34m,\u001b[0m\u001b[0;36m50\u001b[0m\u001b[0;34m)\u001b[0m\u001b[0;34m\u001b[0m\u001b[0;34m\u001b[0m\u001b[0m\n\u001b[0;32m---> 12\u001b[0;31m \u001b[0mprint\u001b[0m\u001b[0;34m(\u001b[0m\u001b[0ms\u001b[0m\u001b[0;34m.\u001b[0m\u001b[0mbrand\u001b[0m\u001b[0;34m)\u001b[0m\u001b[0;34m\u001b[0m\u001b[0;34m\u001b[0m\u001b[0m\n\u001b[0m",
            "\u001b[0;31mAttributeError\u001b[0m: 'SmartPhone' object has no attribute 'brand'"
          ]
        }
      ]
    },
    {
      "cell_type": "markdown",
      "source": [
        "#method overiding"
      ],
      "metadata": {
        "id": "yhqbmbMdEoFm"
      }
    },
    {
      "cell_type": "code",
      "source": [
        "class Phone:\n",
        "  def __init__ (self,price,brand,camera):\n",
        "    print(\"inside phone constructor\")\n",
        "    self.__price=price\n",
        "    self.brand=brand\n",
        "    self.camera = camera\n",
        "  def buy(self):\n",
        "    print(\"Buying a phone\")\n",
        "\n",
        "class   SmartPhone(Phone):\n",
        "  def buy(self):\n",
        "    print(\"Buyin a Smartphone\")  #overiding\n",
        "\n",
        "s = SmartPhone(20000, \"MotoG\",50)\n",
        "s.buy()"
      ],
      "metadata": {
        "colab": {
          "base_uri": "https://localhost:8080/"
        },
        "id": "q_XVuoo-Es4j",
        "outputId": "89240966-e3d0-4352-b7e6-ef72f1b5a50c"
      },
      "execution_count": 4,
      "outputs": [
        {
          "output_type": "stream",
          "name": "stdout",
          "text": [
            "inside phone constructor\n",
            "Buyin a Smartphone\n"
          ]
        }
      ]
    },
    {
      "cell_type": "markdown",
      "source": [
        "# Super keyword\n",
        "\n",
        "In object-oriented programming (OOP), the super keyword is used to refer to the superclass (parent class) of the current class. It is primarily used in languages like Java, Python, and some other object-oriented languages to access or call methods and attributes of the superclass from a subclass. The super keyword is especially useful when a subclass wants to override a method or attribute inherited from its superclass while still utilizing the functionality provided by the superclass."
      ],
      "metadata": {
        "id": "STnmSmhaVGH7"
      }
    },
    {
      "cell_type": "code",
      "source": [
        "class Phone:\n",
        "  def __init__ (self,price,brand,camera):\n",
        "    print(\"inside phone constructor\")\n",
        "    self.__price=price\n",
        "    self.brand=brand\n",
        "    self.camera = camera\n",
        "  def buy(self):\n",
        "    print(\"Buying a phone\")\n",
        "\n",
        "class   SmartPhone(Phone):\n",
        "  def buy(self):\n",
        "    print(\"Buyin a Smartphone\")  #overiding\n",
        "    super().buy()\n",
        "\n",
        "s = SmartPhone(20000, \"MotoG\",50)\n",
        "s.buy()"
      ],
      "metadata": {
        "colab": {
          "base_uri": "https://localhost:8080/"
        },
        "id": "GX-H6S9BVaaf",
        "outputId": "e341a093-0cc9-4aa1-dd8e-0caace5684b0"
      },
      "execution_count": 7,
      "outputs": [
        {
          "output_type": "stream",
          "name": "stdout",
          "text": [
            "inside phone constructor\n",
            "Buyin a Smartphone\n",
            "Buying a phone\n"
          ]
        }
      ]
    },
    {
      "cell_type": "code",
      "source": [
        "class Phone:\n",
        "  def __init__ (self,price,brand,camera):\n",
        "    print(\"inside phone constructor\")\n",
        "    self.__price=price\n",
        "    self.brand=brand\n",
        "    self.camera = camera\n",
        "\n",
        "class SmartPhone(Phone):\n",
        "  def __init__ (self,price,brand,camera,os,ram):\n",
        "    super().__init__ (price,brand,camera) #here calling parentcalss using super keyword\n",
        "    self.os =os\n",
        "    self.ram= ram\n",
        "    print(\"Buyin a Smartphone\")  #overiding\n",
        "\n",
        "s = SmartPhone(20000, \"MotoG\",50,\"Android\",8)\n",
        "print(s.os)\n",
        "print(s.ram)"
      ],
      "metadata": {
        "colab": {
          "base_uri": "https://localhost:8080/"
        },
        "id": "_hZRWLrTiD3S",
        "outputId": "c276dcd1-8ce3-406f-bf19-df6aa2daca5b"
      },
      "execution_count": 11,
      "outputs": [
        {
          "output_type": "stream",
          "name": "stdout",
          "text": [
            "inside phone constructor\n",
            "Buyin a Smartphone\n",
            "Android\n",
            "8\n"
          ]
        }
      ]
    },
    {
      "cell_type": "code",
      "source": [
        "def Parent():"
      ],
      "metadata": {
        "id": "4VqSwnirkeNN"
      },
      "execution_count": null,
      "outputs": []
    },
    {
      "cell_type": "markdown",
      "source": [
        "# Method Overloading"
      ],
      "metadata": {
        "id": "3hkaBD8lqRtK"
      }
    },
    {
      "cell_type": "code",
      "source": [
        "class Geometry:\n",
        "  def area(self,radius):\n",
        "    return 3.14*radius*radius\n",
        "  def area(self,l,b):\n",
        "    return l*b\n",
        "obj = Geometry()\n",
        "obj.area(4,5)"
      ],
      "metadata": {
        "colab": {
          "base_uri": "https://localhost:8080/"
        },
        "id": "vDeNHvsLqjD2",
        "outputId": "1553f39c-25db-446f-8c61-d6104c5dfe93"
      },
      "execution_count": 12,
      "outputs": [
        {
          "output_type": "execute_result",
          "data": {
            "text/plain": [
              "20"
            ]
          },
          "metadata": {},
          "execution_count": 12
        }
      ]
    }
  ]
}