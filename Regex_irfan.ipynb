{
  "nbformat": 4,
  "nbformat_minor": 0,
  "metadata": {
    "colab": {
      "provenance": [],
      "authorship_tag": "ABX9TyMs3VP0OtgnFQwaPVF4v5MK",
      "include_colab_link": true
    },
    "kernelspec": {
      "name": "python3",
      "display_name": "Python 3"
    },
    "language_info": {
      "name": "python"
    }
  },
  "cells": [
    {
      "cell_type": "markdown",
      "metadata": {
        "id": "view-in-github",
        "colab_type": "text"
      },
      "source": [
        "<a href=\"https://colab.research.google.com/github/irfan7210/Python_practice/blob/main/Regex_irfan.ipynb\" target=\"_parent\"><img src=\"https://colab.research.google.com/assets/colab-badge.svg\" alt=\"Open In Colab\"/></a>"
      ]
    },
    {
      "cell_type": "code",
      "execution_count": 1,
      "metadata": {
        "id": "VjcyVKUcP1SA"
      },
      "outputs": [],
      "source": [
        "# name = 'irfan'\n",
        "\n",
        "# if name =='jack' or 'jimmy':\n",
        "#     print(\"Access Granted\")\n",
        "# else:\n",
        "#     print(\"Denied\")\n",
        "\n",
        "\n"
      ]
    },
    {
      "cell_type": "markdown",
      "source": [
        ".(dot)       - Any Character Except New Line\n",
        "\n",
        "\\d      - Digit (0-9)\n",
        "\n",
        "\\D      - Not a Digit (0-9)\n",
        "\n",
        "\\w      - Word Character (a-z, A-Z, 0-9, _)\n",
        "\n",
        "\\W      - Not a Word Character\n",
        "\n",
        "\\s      - Whitespace (space, tab, newline)\n",
        "\n",
        "\\S      - Not Whitespace (space, tab, newline)\n",
        "\n",
        "\n",
        "\\b      - Word Boundary\n",
        "\n",
        "\\B      - Not a Word Boundary\n",
        "\n",
        "^       - Beginning of a String\n",
        "\n",
        "$       - End of a String\n",
        "\n",
        "\n",
        "[]      - Matches Characters in brackets\n",
        "\n",
        "[^ ]    - Matches Characters NOT in brackets\n",
        "\n",
        "|       - Either Or\n",
        "\n",
        "( )     - Group\n",
        "\n",
        "\n",
        "Quantifiers:\n",
        "\n",
        "star or *     - 0 or More\n",
        "\n",
        "plus or +       - 1 or More\n",
        "\n",
        "?       - 0 or One\n",
        "\n",
        "{3}     - Exact Number\n",
        "\n",
        "{3,4}   - Range of Numbers (Minimum, Maximum)\n",
        "\n",
        "\n",
        "\n",
        "#### Sample Regexs ####\n",
        "\n",
        "\n",
        "[a-zA-Z0-9_.+-]+@[a-zA-Z0-9-]+\\.[a-zA-Z0-9-.]+"
      ],
      "metadata": {
        "id": "7bn6Rg0QJJcw"
      }
    },
    {
      "cell_type": "code",
      "source": [
        "import re"
      ],
      "metadata": {
        "id": "5WlzG7CkDt2o"
      },
      "execution_count": 2,
      "outputs": []
    },
    {
      "cell_type": "code",
      "source": [
        "text_to_search = '''\n",
        "abcdefghijklmnopqurtuvwxyz\n",
        "ABCDEFGHIJKLMNOPQRSTUVWXYZ\n",
        "1234567890\n",
        "\n",
        "Ha HaHa\n",
        "\n",
        "\n",
        "MetaCharacters (Need to be escaped):\n",
        ". ^ $ * + ? { } [ ] \\ | ( )\n",
        "\n",
        "coreyms.com\n",
        "\n",
        "321-555-4321\n",
        "123.555.1234\n",
        "123*555*1234\n",
        "800-555-1234\n",
        "900-555-1234\n",
        "\n",
        "Mr. Schafer\n",
        "Mr Smith\n",
        "Ms Davis\n",
        "Mrs. Robinson\n",
        "Mr. T\n",
        "'''\n",
        "sentence = 'Start a sentence and then bring it to an end'\n",
        "\n",
        "# pattern = re.compile(r'start', re.I)\n",
        "\n",
        "# matches = pattern.search(sentence)\n",
        "\n",
        "# print(matches)"
      ],
      "metadata": {
        "id": "8guawgPWQopd"
      },
      "execution_count": 3,
      "outputs": []
    },
    {
      "cell_type": "code",
      "source": [
        "print('\\t tab')"
      ],
      "metadata": {
        "colab": {
          "base_uri": "https://localhost:8080/"
        },
        "id": "vlo-_AZeDUYj",
        "outputId": "0a343096-5fb8-4673-b793-bca551179438"
      },
      "execution_count": 4,
      "outputs": [
        {
          "output_type": "stream",
          "name": "stdout",
          "text": [
            "\t tab\n"
          ]
        }
      ]
    },
    {
      "cell_type": "code",
      "source": [
        "print(r'\\tTab')"
      ],
      "metadata": {
        "colab": {
          "base_uri": "https://localhost:8080/"
        },
        "id": "WSpinaFbDfx2",
        "outputId": "7265c353-553e-4376-8826-4d1a8057feeb"
      },
      "execution_count": 5,
      "outputs": [
        {
          "output_type": "stream",
          "name": "stdout",
          "text": [
            "\\tTab\n"
          ]
        }
      ]
    },
    {
      "cell_type": "code",
      "source": [
        "re.compile(r'.')    #it will return all period"
      ],
      "metadata": {
        "colab": {
          "base_uri": "https://localhost:8080/"
        },
        "id": "ZzBX6KoQJiEr",
        "outputId": "8b2332c0-6074-4661-de14-3c2da70e1712"
      },
      "execution_count": 6,
      "outputs": [
        {
          "output_type": "execute_result",
          "data": {
            "text/plain": [
              "re.compile(r'.', re.UNICODE)"
            ]
          },
          "metadata": {},
          "execution_count": 6
        }
      ]
    },
    {
      "cell_type": "code",
      "source": [
        "re.compile(r'\\.')  #dot will be escaped"
      ],
      "metadata": {
        "colab": {
          "base_uri": "https://localhost:8080/"
        },
        "id": "bp1Grs7xKAKy",
        "outputId": "39d82c5d-e53b-4dee-a16a-50f12a7a8493"
      },
      "execution_count": 7,
      "outputs": [
        {
          "output_type": "execute_result",
          "data": {
            "text/plain": [
              "re.compile(r'\\.', re.UNICODE)"
            ]
          },
          "metadata": {},
          "execution_count": 7
        }
      ]
    },
    {
      "cell_type": "code",
      "source": [
        "#lets we want to match correms.com\n",
        "re.compile(r'Coreyms \\.com')"
      ],
      "metadata": {
        "colab": {
          "base_uri": "https://localhost:8080/"
        },
        "id": "nCCaQ4qqKW48",
        "outputId": "825aa910-0332-4b82-eb89-4c41201abf2e"
      },
      "execution_count": 8,
      "outputs": [
        {
          "output_type": "execute_result",
          "data": {
            "text/plain": [
              "re.compile(r'Coreyms \\.com', re.UNICODE)"
            ]
          },
          "metadata": {},
          "execution_count": 8
        }
      ]
    },
    {
      "cell_type": "code",
      "source": [
        "pattern = re.compile(r'\\D')"
      ],
      "metadata": {
        "id": "Pi5xeBI-Rlzl"
      },
      "execution_count": 9,
      "outputs": []
    },
    {
      "cell_type": "code",
      "source": [
        "pattern = re.compile(r'\\D')\n",
        "matches = pattern.finditer(text_to_search)\n",
        "for match in matches:\n",
        "  print(match)"
      ],
      "metadata": {
        "id": "_FhLpnZCR-QK",
        "colab": {
          "base_uri": "https://localhost:8080/"
        },
        "outputId": "b34930e5-b64d-4993-bdb2-30d97dac480b"
      },
      "execution_count": 10,
      "outputs": [
        {
          "output_type": "stream",
          "name": "stdout",
          "text": [
            "<re.Match object; span=(0, 1), match='\\n'>\n",
            "<re.Match object; span=(1, 2), match='a'>\n",
            "<re.Match object; span=(2, 3), match='b'>\n",
            "<re.Match object; span=(3, 4), match='c'>\n",
            "<re.Match object; span=(4, 5), match='d'>\n",
            "<re.Match object; span=(5, 6), match='e'>\n",
            "<re.Match object; span=(6, 7), match='f'>\n",
            "<re.Match object; span=(7, 8), match='g'>\n",
            "<re.Match object; span=(8, 9), match='h'>\n",
            "<re.Match object; span=(9, 10), match='i'>\n",
            "<re.Match object; span=(10, 11), match='j'>\n",
            "<re.Match object; span=(11, 12), match='k'>\n",
            "<re.Match object; span=(12, 13), match='l'>\n",
            "<re.Match object; span=(13, 14), match='m'>\n",
            "<re.Match object; span=(14, 15), match='n'>\n",
            "<re.Match object; span=(15, 16), match='o'>\n",
            "<re.Match object; span=(16, 17), match='p'>\n",
            "<re.Match object; span=(17, 18), match='q'>\n",
            "<re.Match object; span=(18, 19), match='u'>\n",
            "<re.Match object; span=(19, 20), match='r'>\n",
            "<re.Match object; span=(20, 21), match='t'>\n",
            "<re.Match object; span=(21, 22), match='u'>\n",
            "<re.Match object; span=(22, 23), match='v'>\n",
            "<re.Match object; span=(23, 24), match='w'>\n",
            "<re.Match object; span=(24, 25), match='x'>\n",
            "<re.Match object; span=(25, 26), match='y'>\n",
            "<re.Match object; span=(26, 27), match='z'>\n",
            "<re.Match object; span=(27, 28), match='\\n'>\n",
            "<re.Match object; span=(28, 29), match='A'>\n",
            "<re.Match object; span=(29, 30), match='B'>\n",
            "<re.Match object; span=(30, 31), match='C'>\n",
            "<re.Match object; span=(31, 32), match='D'>\n",
            "<re.Match object; span=(32, 33), match='E'>\n",
            "<re.Match object; span=(33, 34), match='F'>\n",
            "<re.Match object; span=(34, 35), match='G'>\n",
            "<re.Match object; span=(35, 36), match='H'>\n",
            "<re.Match object; span=(36, 37), match='I'>\n",
            "<re.Match object; span=(37, 38), match='J'>\n",
            "<re.Match object; span=(38, 39), match='K'>\n",
            "<re.Match object; span=(39, 40), match='L'>\n",
            "<re.Match object; span=(40, 41), match='M'>\n",
            "<re.Match object; span=(41, 42), match='N'>\n",
            "<re.Match object; span=(42, 43), match='O'>\n",
            "<re.Match object; span=(43, 44), match='P'>\n",
            "<re.Match object; span=(44, 45), match='Q'>\n",
            "<re.Match object; span=(45, 46), match='R'>\n",
            "<re.Match object; span=(46, 47), match='S'>\n",
            "<re.Match object; span=(47, 48), match='T'>\n",
            "<re.Match object; span=(48, 49), match='U'>\n",
            "<re.Match object; span=(49, 50), match='V'>\n",
            "<re.Match object; span=(50, 51), match='W'>\n",
            "<re.Match object; span=(51, 52), match='X'>\n",
            "<re.Match object; span=(52, 53), match='Y'>\n",
            "<re.Match object; span=(53, 54), match='Z'>\n",
            "<re.Match object; span=(54, 55), match='\\n'>\n",
            "<re.Match object; span=(65, 66), match='\\n'>\n",
            "<re.Match object; span=(66, 67), match='\\n'>\n",
            "<re.Match object; span=(67, 68), match='H'>\n",
            "<re.Match object; span=(68, 69), match='a'>\n",
            "<re.Match object; span=(69, 70), match=' '>\n",
            "<re.Match object; span=(70, 71), match='H'>\n",
            "<re.Match object; span=(71, 72), match='a'>\n",
            "<re.Match object; span=(72, 73), match='H'>\n",
            "<re.Match object; span=(73, 74), match='a'>\n",
            "<re.Match object; span=(74, 75), match='\\n'>\n",
            "<re.Match object; span=(75, 76), match='\\n'>\n",
            "<re.Match object; span=(76, 77), match='\\n'>\n",
            "<re.Match object; span=(77, 78), match='M'>\n",
            "<re.Match object; span=(78, 79), match='e'>\n",
            "<re.Match object; span=(79, 80), match='t'>\n",
            "<re.Match object; span=(80, 81), match='a'>\n",
            "<re.Match object; span=(81, 82), match='C'>\n",
            "<re.Match object; span=(82, 83), match='h'>\n",
            "<re.Match object; span=(83, 84), match='a'>\n",
            "<re.Match object; span=(84, 85), match='r'>\n",
            "<re.Match object; span=(85, 86), match='a'>\n",
            "<re.Match object; span=(86, 87), match='c'>\n",
            "<re.Match object; span=(87, 88), match='t'>\n",
            "<re.Match object; span=(88, 89), match='e'>\n",
            "<re.Match object; span=(89, 90), match='r'>\n",
            "<re.Match object; span=(90, 91), match='s'>\n",
            "<re.Match object; span=(91, 92), match=' '>\n",
            "<re.Match object; span=(92, 93), match='('>\n",
            "<re.Match object; span=(93, 94), match='N'>\n",
            "<re.Match object; span=(94, 95), match='e'>\n",
            "<re.Match object; span=(95, 96), match='e'>\n",
            "<re.Match object; span=(96, 97), match='d'>\n",
            "<re.Match object; span=(97, 98), match=' '>\n",
            "<re.Match object; span=(98, 99), match='t'>\n",
            "<re.Match object; span=(99, 100), match='o'>\n",
            "<re.Match object; span=(100, 101), match=' '>\n",
            "<re.Match object; span=(101, 102), match='b'>\n",
            "<re.Match object; span=(102, 103), match='e'>\n",
            "<re.Match object; span=(103, 104), match=' '>\n",
            "<re.Match object; span=(104, 105), match='e'>\n",
            "<re.Match object; span=(105, 106), match='s'>\n",
            "<re.Match object; span=(106, 107), match='c'>\n",
            "<re.Match object; span=(107, 108), match='a'>\n",
            "<re.Match object; span=(108, 109), match='p'>\n",
            "<re.Match object; span=(109, 110), match='e'>\n",
            "<re.Match object; span=(110, 111), match='d'>\n",
            "<re.Match object; span=(111, 112), match=')'>\n",
            "<re.Match object; span=(112, 113), match=':'>\n",
            "<re.Match object; span=(113, 114), match='\\n'>\n",
            "<re.Match object; span=(114, 115), match='.'>\n",
            "<re.Match object; span=(115, 116), match=' '>\n",
            "<re.Match object; span=(116, 117), match='^'>\n",
            "<re.Match object; span=(117, 118), match=' '>\n",
            "<re.Match object; span=(118, 119), match='$'>\n",
            "<re.Match object; span=(119, 120), match=' '>\n",
            "<re.Match object; span=(120, 121), match='*'>\n",
            "<re.Match object; span=(121, 122), match=' '>\n",
            "<re.Match object; span=(122, 123), match='+'>\n",
            "<re.Match object; span=(123, 124), match=' '>\n",
            "<re.Match object; span=(124, 125), match='?'>\n",
            "<re.Match object; span=(125, 126), match=' '>\n",
            "<re.Match object; span=(126, 127), match='{'>\n",
            "<re.Match object; span=(127, 128), match=' '>\n",
            "<re.Match object; span=(128, 129), match='}'>\n",
            "<re.Match object; span=(129, 130), match=' '>\n",
            "<re.Match object; span=(130, 131), match='['>\n",
            "<re.Match object; span=(131, 132), match=' '>\n",
            "<re.Match object; span=(132, 133), match=']'>\n",
            "<re.Match object; span=(133, 134), match=' '>\n",
            "<re.Match object; span=(134, 135), match='\\\\'>\n",
            "<re.Match object; span=(135, 136), match=' '>\n",
            "<re.Match object; span=(136, 137), match='|'>\n",
            "<re.Match object; span=(137, 138), match=' '>\n",
            "<re.Match object; span=(138, 139), match='('>\n",
            "<re.Match object; span=(139, 140), match=' '>\n",
            "<re.Match object; span=(140, 141), match=')'>\n",
            "<re.Match object; span=(141, 142), match='\\n'>\n",
            "<re.Match object; span=(142, 143), match='\\n'>\n",
            "<re.Match object; span=(143, 144), match='c'>\n",
            "<re.Match object; span=(144, 145), match='o'>\n",
            "<re.Match object; span=(145, 146), match='r'>\n",
            "<re.Match object; span=(146, 147), match='e'>\n",
            "<re.Match object; span=(147, 148), match='y'>\n",
            "<re.Match object; span=(148, 149), match='m'>\n",
            "<re.Match object; span=(149, 150), match='s'>\n",
            "<re.Match object; span=(150, 151), match='.'>\n",
            "<re.Match object; span=(151, 152), match='c'>\n",
            "<re.Match object; span=(152, 153), match='o'>\n",
            "<re.Match object; span=(153, 154), match='m'>\n",
            "<re.Match object; span=(154, 155), match='\\n'>\n",
            "<re.Match object; span=(155, 156), match='\\n'>\n",
            "<re.Match object; span=(159, 160), match='-'>\n",
            "<re.Match object; span=(163, 164), match='-'>\n",
            "<re.Match object; span=(168, 169), match='\\n'>\n",
            "<re.Match object; span=(172, 173), match='.'>\n",
            "<re.Match object; span=(176, 177), match='.'>\n",
            "<re.Match object; span=(181, 182), match='\\n'>\n",
            "<re.Match object; span=(185, 186), match='*'>\n",
            "<re.Match object; span=(189, 190), match='*'>\n",
            "<re.Match object; span=(194, 195), match='\\n'>\n",
            "<re.Match object; span=(198, 199), match='-'>\n",
            "<re.Match object; span=(202, 203), match='-'>\n",
            "<re.Match object; span=(207, 208), match='\\n'>\n",
            "<re.Match object; span=(211, 212), match='-'>\n",
            "<re.Match object; span=(215, 216), match='-'>\n",
            "<re.Match object; span=(220, 221), match='\\n'>\n",
            "<re.Match object; span=(221, 222), match='\\n'>\n",
            "<re.Match object; span=(222, 223), match='M'>\n",
            "<re.Match object; span=(223, 224), match='r'>\n",
            "<re.Match object; span=(224, 225), match='.'>\n",
            "<re.Match object; span=(225, 226), match=' '>\n",
            "<re.Match object; span=(226, 227), match='S'>\n",
            "<re.Match object; span=(227, 228), match='c'>\n",
            "<re.Match object; span=(228, 229), match='h'>\n",
            "<re.Match object; span=(229, 230), match='a'>\n",
            "<re.Match object; span=(230, 231), match='f'>\n",
            "<re.Match object; span=(231, 232), match='e'>\n",
            "<re.Match object; span=(232, 233), match='r'>\n",
            "<re.Match object; span=(233, 234), match='\\n'>\n",
            "<re.Match object; span=(234, 235), match='M'>\n",
            "<re.Match object; span=(235, 236), match='r'>\n",
            "<re.Match object; span=(236, 237), match=' '>\n",
            "<re.Match object; span=(237, 238), match='S'>\n",
            "<re.Match object; span=(238, 239), match='m'>\n",
            "<re.Match object; span=(239, 240), match='i'>\n",
            "<re.Match object; span=(240, 241), match='t'>\n",
            "<re.Match object; span=(241, 242), match='h'>\n",
            "<re.Match object; span=(242, 243), match='\\n'>\n",
            "<re.Match object; span=(243, 244), match='M'>\n",
            "<re.Match object; span=(244, 245), match='s'>\n",
            "<re.Match object; span=(245, 246), match=' '>\n",
            "<re.Match object; span=(246, 247), match='D'>\n",
            "<re.Match object; span=(247, 248), match='a'>\n",
            "<re.Match object; span=(248, 249), match='v'>\n",
            "<re.Match object; span=(249, 250), match='i'>\n",
            "<re.Match object; span=(250, 251), match='s'>\n",
            "<re.Match object; span=(251, 252), match='\\n'>\n",
            "<re.Match object; span=(252, 253), match='M'>\n",
            "<re.Match object; span=(253, 254), match='r'>\n",
            "<re.Match object; span=(254, 255), match='s'>\n",
            "<re.Match object; span=(255, 256), match='.'>\n",
            "<re.Match object; span=(256, 257), match=' '>\n",
            "<re.Match object; span=(257, 258), match='R'>\n",
            "<re.Match object; span=(258, 259), match='o'>\n",
            "<re.Match object; span=(259, 260), match='b'>\n",
            "<re.Match object; span=(260, 261), match='i'>\n",
            "<re.Match object; span=(261, 262), match='n'>\n",
            "<re.Match object; span=(262, 263), match='s'>\n",
            "<re.Match object; span=(263, 264), match='o'>\n",
            "<re.Match object; span=(264, 265), match='n'>\n",
            "<re.Match object; span=(265, 266), match='\\n'>\n",
            "<re.Match object; span=(266, 267), match='M'>\n",
            "<re.Match object; span=(267, 268), match='r'>\n",
            "<re.Match object; span=(268, 269), match='.'>\n",
            "<re.Match object; span=(269, 270), match=' '>\n",
            "<re.Match object; span=(270, 271), match='T'>\n",
            "<re.Match object; span=(271, 272), match='\\n'>\n"
          ]
        }
      ]
    },
    {
      "cell_type": "code",
      "source": [
        "\n",
        "pattern = re.compile(r'\\d\\d\\d.\\d\\d\\d.\\d\\d\\d\\d')   #it will match all\n",
        "matches = pattern.finditer(text_to_search)\n",
        "for match in matches:\n",
        "  print(match)"
      ],
      "metadata": {
        "colab": {
          "base_uri": "https://localhost:8080/"
        },
        "id": "pCpbKRn6XiDk",
        "outputId": "b08dfae1-71b8-4f22-dac9-ff51397f1a4d"
      },
      "execution_count": 11,
      "outputs": [
        {
          "output_type": "stream",
          "name": "stdout",
          "text": [
            "<re.Match object; span=(156, 168), match='321-555-4321'>\n",
            "<re.Match object; span=(169, 181), match='123.555.1234'>\n",
            "<re.Match object; span=(182, 194), match='123*555*1234'>\n",
            "<re.Match object; span=(195, 207), match='800-555-1234'>\n",
            "<re.Match object; span=(208, 220), match='900-555-1234'>\n"
          ]
        }
      ]
    },
    {
      "cell_type": "code",
      "source": [
        "pattern = re.compile(r'\\d\\d\\d[.-]\\d\\d\\d[.-]\\d\\d\\d\\d')   #it will only match . dot and -\n",
        "matches = pattern.finditer(text_to_search)\n",
        "for match in matches:\n",
        "  print(match)"
      ],
      "metadata": {
        "colab": {
          "base_uri": "https://localhost:8080/"
        },
        "id": "XGut6ms7Jm9a",
        "outputId": "03201cf5-978e-431b-f277-34b3db41721a"
      },
      "execution_count": 12,
      "outputs": [
        {
          "output_type": "stream",
          "name": "stdout",
          "text": [
            "<re.Match object; span=(156, 168), match='321-555-4321'>\n",
            "<re.Match object; span=(169, 181), match='123.555.1234'>\n",
            "<re.Match object; span=(195, 207), match='800-555-1234'>\n",
            "<re.Match object; span=(208, 220), match='900-555-1234'>\n"
          ]
        }
      ]
    },
    {
      "cell_type": "code",
      "source": [
        "pattern = re.compile(r'[89]00[-.]\\d\\d\\d')  #it will give result as start number with either 9 or 8\n",
        "matches = pattern.finditer(text_to_search)\n",
        "for match in matches:\n",
        "  print(match)"
      ],
      "metadata": {
        "colab": {
          "base_uri": "https://localhost:8080/"
        },
        "id": "01EayE94LkiB",
        "outputId": "2599cebd-b6be-4cec-a584-4614efa062fb"
      },
      "execution_count": 13,
      "outputs": [
        {
          "output_type": "stream",
          "name": "stdout",
          "text": [
            "<re.Match object; span=(195, 202), match='800-555'>\n",
            "<re.Match object; span=(208, 215), match='900-555'>\n"
          ]
        }
      ]
    },
    {
      "cell_type": "code",
      "source": [
        "pattern = re.compile(r'[1-5A-Za-z]')  #it will match  range of value 1-5, a-z A-Z"
      ],
      "metadata": {
        "id": "zFXkNX6HPyy1"
      },
      "execution_count": 14,
      "outputs": []
    },
    {
      "cell_type": "code",
      "source": [
        "pattern = re.compile(r'[^1-5A-Za-z]')  #it will match  all except these 1-5, a-z A-Z\n",
        "matches = pattern.finditer(text_to_search)\n",
        "for match in matches:\n",
        "  print(match)"
      ],
      "metadata": {
        "id": "_qO2nEO8QZG7",
        "colab": {
          "base_uri": "https://localhost:8080/"
        },
        "outputId": "a18b6930-8162-410f-9a97-6de17ea05dfc"
      },
      "execution_count": 15,
      "outputs": [
        {
          "output_type": "stream",
          "name": "stdout",
          "text": [
            "<re.Match object; span=(0, 1), match='\\n'>\n",
            "<re.Match object; span=(27, 28), match='\\n'>\n",
            "<re.Match object; span=(54, 55), match='\\n'>\n",
            "<re.Match object; span=(60, 61), match='6'>\n",
            "<re.Match object; span=(61, 62), match='7'>\n",
            "<re.Match object; span=(62, 63), match='8'>\n",
            "<re.Match object; span=(63, 64), match='9'>\n",
            "<re.Match object; span=(64, 65), match='0'>\n",
            "<re.Match object; span=(65, 66), match='\\n'>\n",
            "<re.Match object; span=(66, 67), match='\\n'>\n",
            "<re.Match object; span=(69, 70), match=' '>\n",
            "<re.Match object; span=(74, 75), match='\\n'>\n",
            "<re.Match object; span=(75, 76), match='\\n'>\n",
            "<re.Match object; span=(76, 77), match='\\n'>\n",
            "<re.Match object; span=(91, 92), match=' '>\n",
            "<re.Match object; span=(92, 93), match='('>\n",
            "<re.Match object; span=(97, 98), match=' '>\n",
            "<re.Match object; span=(100, 101), match=' '>\n",
            "<re.Match object; span=(103, 104), match=' '>\n",
            "<re.Match object; span=(111, 112), match=')'>\n",
            "<re.Match object; span=(112, 113), match=':'>\n",
            "<re.Match object; span=(113, 114), match='\\n'>\n",
            "<re.Match object; span=(114, 115), match='.'>\n",
            "<re.Match object; span=(115, 116), match=' '>\n",
            "<re.Match object; span=(116, 117), match='^'>\n",
            "<re.Match object; span=(117, 118), match=' '>\n",
            "<re.Match object; span=(118, 119), match='$'>\n",
            "<re.Match object; span=(119, 120), match=' '>\n",
            "<re.Match object; span=(120, 121), match='*'>\n",
            "<re.Match object; span=(121, 122), match=' '>\n",
            "<re.Match object; span=(122, 123), match='+'>\n",
            "<re.Match object; span=(123, 124), match=' '>\n",
            "<re.Match object; span=(124, 125), match='?'>\n",
            "<re.Match object; span=(125, 126), match=' '>\n",
            "<re.Match object; span=(126, 127), match='{'>\n",
            "<re.Match object; span=(127, 128), match=' '>\n",
            "<re.Match object; span=(128, 129), match='}'>\n",
            "<re.Match object; span=(129, 130), match=' '>\n",
            "<re.Match object; span=(130, 131), match='['>\n",
            "<re.Match object; span=(131, 132), match=' '>\n",
            "<re.Match object; span=(132, 133), match=']'>\n",
            "<re.Match object; span=(133, 134), match=' '>\n",
            "<re.Match object; span=(134, 135), match='\\\\'>\n",
            "<re.Match object; span=(135, 136), match=' '>\n",
            "<re.Match object; span=(136, 137), match='|'>\n",
            "<re.Match object; span=(137, 138), match=' '>\n",
            "<re.Match object; span=(138, 139), match='('>\n",
            "<re.Match object; span=(139, 140), match=' '>\n",
            "<re.Match object; span=(140, 141), match=')'>\n",
            "<re.Match object; span=(141, 142), match='\\n'>\n",
            "<re.Match object; span=(142, 143), match='\\n'>\n",
            "<re.Match object; span=(150, 151), match='.'>\n",
            "<re.Match object; span=(154, 155), match='\\n'>\n",
            "<re.Match object; span=(155, 156), match='\\n'>\n",
            "<re.Match object; span=(159, 160), match='-'>\n",
            "<re.Match object; span=(163, 164), match='-'>\n",
            "<re.Match object; span=(168, 169), match='\\n'>\n",
            "<re.Match object; span=(172, 173), match='.'>\n",
            "<re.Match object; span=(176, 177), match='.'>\n",
            "<re.Match object; span=(181, 182), match='\\n'>\n",
            "<re.Match object; span=(185, 186), match='*'>\n",
            "<re.Match object; span=(189, 190), match='*'>\n",
            "<re.Match object; span=(194, 195), match='\\n'>\n",
            "<re.Match object; span=(195, 196), match='8'>\n",
            "<re.Match object; span=(196, 197), match='0'>\n",
            "<re.Match object; span=(197, 198), match='0'>\n",
            "<re.Match object; span=(198, 199), match='-'>\n",
            "<re.Match object; span=(202, 203), match='-'>\n",
            "<re.Match object; span=(207, 208), match='\\n'>\n",
            "<re.Match object; span=(208, 209), match='9'>\n",
            "<re.Match object; span=(209, 210), match='0'>\n",
            "<re.Match object; span=(210, 211), match='0'>\n",
            "<re.Match object; span=(211, 212), match='-'>\n",
            "<re.Match object; span=(215, 216), match='-'>\n",
            "<re.Match object; span=(220, 221), match='\\n'>\n",
            "<re.Match object; span=(221, 222), match='\\n'>\n",
            "<re.Match object; span=(224, 225), match='.'>\n",
            "<re.Match object; span=(225, 226), match=' '>\n",
            "<re.Match object; span=(233, 234), match='\\n'>\n",
            "<re.Match object; span=(236, 237), match=' '>\n",
            "<re.Match object; span=(242, 243), match='\\n'>\n",
            "<re.Match object; span=(245, 246), match=' '>\n",
            "<re.Match object; span=(251, 252), match='\\n'>\n",
            "<re.Match object; span=(255, 256), match='.'>\n",
            "<re.Match object; span=(256, 257), match=' '>\n",
            "<re.Match object; span=(265, 266), match='\\n'>\n",
            "<re.Match object; span=(268, 269), match='.'>\n",
            "<re.Match object; span=(269, 270), match=' '>\n",
            "<re.Match object; span=(271, 272), match='\\n'>\n"
          ]
        }
      ]
    },
    {
      "cell_type": "code",
      "source": [
        "pattern = re.compile(r'[^b]')  #it will match  all except these b\n",
        "matches = pattern.finditer(text_to_search)\n",
        "for match in matches:\n",
        "  print(match)"
      ],
      "metadata": {
        "id": "k__5dGT3Rz9t",
        "colab": {
          "base_uri": "https://localhost:8080/"
        },
        "outputId": "e36cc551-784a-4cf5-92af-281c61419b98"
      },
      "execution_count": 16,
      "outputs": [
        {
          "output_type": "stream",
          "name": "stdout",
          "text": [
            "<re.Match object; span=(0, 1), match='\\n'>\n",
            "<re.Match object; span=(1, 2), match='a'>\n",
            "<re.Match object; span=(3, 4), match='c'>\n",
            "<re.Match object; span=(4, 5), match='d'>\n",
            "<re.Match object; span=(5, 6), match='e'>\n",
            "<re.Match object; span=(6, 7), match='f'>\n",
            "<re.Match object; span=(7, 8), match='g'>\n",
            "<re.Match object; span=(8, 9), match='h'>\n",
            "<re.Match object; span=(9, 10), match='i'>\n",
            "<re.Match object; span=(10, 11), match='j'>\n",
            "<re.Match object; span=(11, 12), match='k'>\n",
            "<re.Match object; span=(12, 13), match='l'>\n",
            "<re.Match object; span=(13, 14), match='m'>\n",
            "<re.Match object; span=(14, 15), match='n'>\n",
            "<re.Match object; span=(15, 16), match='o'>\n",
            "<re.Match object; span=(16, 17), match='p'>\n",
            "<re.Match object; span=(17, 18), match='q'>\n",
            "<re.Match object; span=(18, 19), match='u'>\n",
            "<re.Match object; span=(19, 20), match='r'>\n",
            "<re.Match object; span=(20, 21), match='t'>\n",
            "<re.Match object; span=(21, 22), match='u'>\n",
            "<re.Match object; span=(22, 23), match='v'>\n",
            "<re.Match object; span=(23, 24), match='w'>\n",
            "<re.Match object; span=(24, 25), match='x'>\n",
            "<re.Match object; span=(25, 26), match='y'>\n",
            "<re.Match object; span=(26, 27), match='z'>\n",
            "<re.Match object; span=(27, 28), match='\\n'>\n",
            "<re.Match object; span=(28, 29), match='A'>\n",
            "<re.Match object; span=(29, 30), match='B'>\n",
            "<re.Match object; span=(30, 31), match='C'>\n",
            "<re.Match object; span=(31, 32), match='D'>\n",
            "<re.Match object; span=(32, 33), match='E'>\n",
            "<re.Match object; span=(33, 34), match='F'>\n",
            "<re.Match object; span=(34, 35), match='G'>\n",
            "<re.Match object; span=(35, 36), match='H'>\n",
            "<re.Match object; span=(36, 37), match='I'>\n",
            "<re.Match object; span=(37, 38), match='J'>\n",
            "<re.Match object; span=(38, 39), match='K'>\n",
            "<re.Match object; span=(39, 40), match='L'>\n",
            "<re.Match object; span=(40, 41), match='M'>\n",
            "<re.Match object; span=(41, 42), match='N'>\n",
            "<re.Match object; span=(42, 43), match='O'>\n",
            "<re.Match object; span=(43, 44), match='P'>\n",
            "<re.Match object; span=(44, 45), match='Q'>\n",
            "<re.Match object; span=(45, 46), match='R'>\n",
            "<re.Match object; span=(46, 47), match='S'>\n",
            "<re.Match object; span=(47, 48), match='T'>\n",
            "<re.Match object; span=(48, 49), match='U'>\n",
            "<re.Match object; span=(49, 50), match='V'>\n",
            "<re.Match object; span=(50, 51), match='W'>\n",
            "<re.Match object; span=(51, 52), match='X'>\n",
            "<re.Match object; span=(52, 53), match='Y'>\n",
            "<re.Match object; span=(53, 54), match='Z'>\n",
            "<re.Match object; span=(54, 55), match='\\n'>\n",
            "<re.Match object; span=(55, 56), match='1'>\n",
            "<re.Match object; span=(56, 57), match='2'>\n",
            "<re.Match object; span=(57, 58), match='3'>\n",
            "<re.Match object; span=(58, 59), match='4'>\n",
            "<re.Match object; span=(59, 60), match='5'>\n",
            "<re.Match object; span=(60, 61), match='6'>\n",
            "<re.Match object; span=(61, 62), match='7'>\n",
            "<re.Match object; span=(62, 63), match='8'>\n",
            "<re.Match object; span=(63, 64), match='9'>\n",
            "<re.Match object; span=(64, 65), match='0'>\n",
            "<re.Match object; span=(65, 66), match='\\n'>\n",
            "<re.Match object; span=(66, 67), match='\\n'>\n",
            "<re.Match object; span=(67, 68), match='H'>\n",
            "<re.Match object; span=(68, 69), match='a'>\n",
            "<re.Match object; span=(69, 70), match=' '>\n",
            "<re.Match object; span=(70, 71), match='H'>\n",
            "<re.Match object; span=(71, 72), match='a'>\n",
            "<re.Match object; span=(72, 73), match='H'>\n",
            "<re.Match object; span=(73, 74), match='a'>\n",
            "<re.Match object; span=(74, 75), match='\\n'>\n",
            "<re.Match object; span=(75, 76), match='\\n'>\n",
            "<re.Match object; span=(76, 77), match='\\n'>\n",
            "<re.Match object; span=(77, 78), match='M'>\n",
            "<re.Match object; span=(78, 79), match='e'>\n",
            "<re.Match object; span=(79, 80), match='t'>\n",
            "<re.Match object; span=(80, 81), match='a'>\n",
            "<re.Match object; span=(81, 82), match='C'>\n",
            "<re.Match object; span=(82, 83), match='h'>\n",
            "<re.Match object; span=(83, 84), match='a'>\n",
            "<re.Match object; span=(84, 85), match='r'>\n",
            "<re.Match object; span=(85, 86), match='a'>\n",
            "<re.Match object; span=(86, 87), match='c'>\n",
            "<re.Match object; span=(87, 88), match='t'>\n",
            "<re.Match object; span=(88, 89), match='e'>\n",
            "<re.Match object; span=(89, 90), match='r'>\n",
            "<re.Match object; span=(90, 91), match='s'>\n",
            "<re.Match object; span=(91, 92), match=' '>\n",
            "<re.Match object; span=(92, 93), match='('>\n",
            "<re.Match object; span=(93, 94), match='N'>\n",
            "<re.Match object; span=(94, 95), match='e'>\n",
            "<re.Match object; span=(95, 96), match='e'>\n",
            "<re.Match object; span=(96, 97), match='d'>\n",
            "<re.Match object; span=(97, 98), match=' '>\n",
            "<re.Match object; span=(98, 99), match='t'>\n",
            "<re.Match object; span=(99, 100), match='o'>\n",
            "<re.Match object; span=(100, 101), match=' '>\n",
            "<re.Match object; span=(102, 103), match='e'>\n",
            "<re.Match object; span=(103, 104), match=' '>\n",
            "<re.Match object; span=(104, 105), match='e'>\n",
            "<re.Match object; span=(105, 106), match='s'>\n",
            "<re.Match object; span=(106, 107), match='c'>\n",
            "<re.Match object; span=(107, 108), match='a'>\n",
            "<re.Match object; span=(108, 109), match='p'>\n",
            "<re.Match object; span=(109, 110), match='e'>\n",
            "<re.Match object; span=(110, 111), match='d'>\n",
            "<re.Match object; span=(111, 112), match=')'>\n",
            "<re.Match object; span=(112, 113), match=':'>\n",
            "<re.Match object; span=(113, 114), match='\\n'>\n",
            "<re.Match object; span=(114, 115), match='.'>\n",
            "<re.Match object; span=(115, 116), match=' '>\n",
            "<re.Match object; span=(116, 117), match='^'>\n",
            "<re.Match object; span=(117, 118), match=' '>\n",
            "<re.Match object; span=(118, 119), match='$'>\n",
            "<re.Match object; span=(119, 120), match=' '>\n",
            "<re.Match object; span=(120, 121), match='*'>\n",
            "<re.Match object; span=(121, 122), match=' '>\n",
            "<re.Match object; span=(122, 123), match='+'>\n",
            "<re.Match object; span=(123, 124), match=' '>\n",
            "<re.Match object; span=(124, 125), match='?'>\n",
            "<re.Match object; span=(125, 126), match=' '>\n",
            "<re.Match object; span=(126, 127), match='{'>\n",
            "<re.Match object; span=(127, 128), match=' '>\n",
            "<re.Match object; span=(128, 129), match='}'>\n",
            "<re.Match object; span=(129, 130), match=' '>\n",
            "<re.Match object; span=(130, 131), match='['>\n",
            "<re.Match object; span=(131, 132), match=' '>\n",
            "<re.Match object; span=(132, 133), match=']'>\n",
            "<re.Match object; span=(133, 134), match=' '>\n",
            "<re.Match object; span=(134, 135), match='\\\\'>\n",
            "<re.Match object; span=(135, 136), match=' '>\n",
            "<re.Match object; span=(136, 137), match='|'>\n",
            "<re.Match object; span=(137, 138), match=' '>\n",
            "<re.Match object; span=(138, 139), match='('>\n",
            "<re.Match object; span=(139, 140), match=' '>\n",
            "<re.Match object; span=(140, 141), match=')'>\n",
            "<re.Match object; span=(141, 142), match='\\n'>\n",
            "<re.Match object; span=(142, 143), match='\\n'>\n",
            "<re.Match object; span=(143, 144), match='c'>\n",
            "<re.Match object; span=(144, 145), match='o'>\n",
            "<re.Match object; span=(145, 146), match='r'>\n",
            "<re.Match object; span=(146, 147), match='e'>\n",
            "<re.Match object; span=(147, 148), match='y'>\n",
            "<re.Match object; span=(148, 149), match='m'>\n",
            "<re.Match object; span=(149, 150), match='s'>\n",
            "<re.Match object; span=(150, 151), match='.'>\n",
            "<re.Match object; span=(151, 152), match='c'>\n",
            "<re.Match object; span=(152, 153), match='o'>\n",
            "<re.Match object; span=(153, 154), match='m'>\n",
            "<re.Match object; span=(154, 155), match='\\n'>\n",
            "<re.Match object; span=(155, 156), match='\\n'>\n",
            "<re.Match object; span=(156, 157), match='3'>\n",
            "<re.Match object; span=(157, 158), match='2'>\n",
            "<re.Match object; span=(158, 159), match='1'>\n",
            "<re.Match object; span=(159, 160), match='-'>\n",
            "<re.Match object; span=(160, 161), match='5'>\n",
            "<re.Match object; span=(161, 162), match='5'>\n",
            "<re.Match object; span=(162, 163), match='5'>\n",
            "<re.Match object; span=(163, 164), match='-'>\n",
            "<re.Match object; span=(164, 165), match='4'>\n",
            "<re.Match object; span=(165, 166), match='3'>\n",
            "<re.Match object; span=(166, 167), match='2'>\n",
            "<re.Match object; span=(167, 168), match='1'>\n",
            "<re.Match object; span=(168, 169), match='\\n'>\n",
            "<re.Match object; span=(169, 170), match='1'>\n",
            "<re.Match object; span=(170, 171), match='2'>\n",
            "<re.Match object; span=(171, 172), match='3'>\n",
            "<re.Match object; span=(172, 173), match='.'>\n",
            "<re.Match object; span=(173, 174), match='5'>\n",
            "<re.Match object; span=(174, 175), match='5'>\n",
            "<re.Match object; span=(175, 176), match='5'>\n",
            "<re.Match object; span=(176, 177), match='.'>\n",
            "<re.Match object; span=(177, 178), match='1'>\n",
            "<re.Match object; span=(178, 179), match='2'>\n",
            "<re.Match object; span=(179, 180), match='3'>\n",
            "<re.Match object; span=(180, 181), match='4'>\n",
            "<re.Match object; span=(181, 182), match='\\n'>\n",
            "<re.Match object; span=(182, 183), match='1'>\n",
            "<re.Match object; span=(183, 184), match='2'>\n",
            "<re.Match object; span=(184, 185), match='3'>\n",
            "<re.Match object; span=(185, 186), match='*'>\n",
            "<re.Match object; span=(186, 187), match='5'>\n",
            "<re.Match object; span=(187, 188), match='5'>\n",
            "<re.Match object; span=(188, 189), match='5'>\n",
            "<re.Match object; span=(189, 190), match='*'>\n",
            "<re.Match object; span=(190, 191), match='1'>\n",
            "<re.Match object; span=(191, 192), match='2'>\n",
            "<re.Match object; span=(192, 193), match='3'>\n",
            "<re.Match object; span=(193, 194), match='4'>\n",
            "<re.Match object; span=(194, 195), match='\\n'>\n",
            "<re.Match object; span=(195, 196), match='8'>\n",
            "<re.Match object; span=(196, 197), match='0'>\n",
            "<re.Match object; span=(197, 198), match='0'>\n",
            "<re.Match object; span=(198, 199), match='-'>\n",
            "<re.Match object; span=(199, 200), match='5'>\n",
            "<re.Match object; span=(200, 201), match='5'>\n",
            "<re.Match object; span=(201, 202), match='5'>\n",
            "<re.Match object; span=(202, 203), match='-'>\n",
            "<re.Match object; span=(203, 204), match='1'>\n",
            "<re.Match object; span=(204, 205), match='2'>\n",
            "<re.Match object; span=(205, 206), match='3'>\n",
            "<re.Match object; span=(206, 207), match='4'>\n",
            "<re.Match object; span=(207, 208), match='\\n'>\n",
            "<re.Match object; span=(208, 209), match='9'>\n",
            "<re.Match object; span=(209, 210), match='0'>\n",
            "<re.Match object; span=(210, 211), match='0'>\n",
            "<re.Match object; span=(211, 212), match='-'>\n",
            "<re.Match object; span=(212, 213), match='5'>\n",
            "<re.Match object; span=(213, 214), match='5'>\n",
            "<re.Match object; span=(214, 215), match='5'>\n",
            "<re.Match object; span=(215, 216), match='-'>\n",
            "<re.Match object; span=(216, 217), match='1'>\n",
            "<re.Match object; span=(217, 218), match='2'>\n",
            "<re.Match object; span=(218, 219), match='3'>\n",
            "<re.Match object; span=(219, 220), match='4'>\n",
            "<re.Match object; span=(220, 221), match='\\n'>\n",
            "<re.Match object; span=(221, 222), match='\\n'>\n",
            "<re.Match object; span=(222, 223), match='M'>\n",
            "<re.Match object; span=(223, 224), match='r'>\n",
            "<re.Match object; span=(224, 225), match='.'>\n",
            "<re.Match object; span=(225, 226), match=' '>\n",
            "<re.Match object; span=(226, 227), match='S'>\n",
            "<re.Match object; span=(227, 228), match='c'>\n",
            "<re.Match object; span=(228, 229), match='h'>\n",
            "<re.Match object; span=(229, 230), match='a'>\n",
            "<re.Match object; span=(230, 231), match='f'>\n",
            "<re.Match object; span=(231, 232), match='e'>\n",
            "<re.Match object; span=(232, 233), match='r'>\n",
            "<re.Match object; span=(233, 234), match='\\n'>\n",
            "<re.Match object; span=(234, 235), match='M'>\n",
            "<re.Match object; span=(235, 236), match='r'>\n",
            "<re.Match object; span=(236, 237), match=' '>\n",
            "<re.Match object; span=(237, 238), match='S'>\n",
            "<re.Match object; span=(238, 239), match='m'>\n",
            "<re.Match object; span=(239, 240), match='i'>\n",
            "<re.Match object; span=(240, 241), match='t'>\n",
            "<re.Match object; span=(241, 242), match='h'>\n",
            "<re.Match object; span=(242, 243), match='\\n'>\n",
            "<re.Match object; span=(243, 244), match='M'>\n",
            "<re.Match object; span=(244, 245), match='s'>\n",
            "<re.Match object; span=(245, 246), match=' '>\n",
            "<re.Match object; span=(246, 247), match='D'>\n",
            "<re.Match object; span=(247, 248), match='a'>\n",
            "<re.Match object; span=(248, 249), match='v'>\n",
            "<re.Match object; span=(249, 250), match='i'>\n",
            "<re.Match object; span=(250, 251), match='s'>\n",
            "<re.Match object; span=(251, 252), match='\\n'>\n",
            "<re.Match object; span=(252, 253), match='M'>\n",
            "<re.Match object; span=(253, 254), match='r'>\n",
            "<re.Match object; span=(254, 255), match='s'>\n",
            "<re.Match object; span=(255, 256), match='.'>\n",
            "<re.Match object; span=(256, 257), match=' '>\n",
            "<re.Match object; span=(257, 258), match='R'>\n",
            "<re.Match object; span=(258, 259), match='o'>\n",
            "<re.Match object; span=(260, 261), match='i'>\n",
            "<re.Match object; span=(261, 262), match='n'>\n",
            "<re.Match object; span=(262, 263), match='s'>\n",
            "<re.Match object; span=(263, 264), match='o'>\n",
            "<re.Match object; span=(264, 265), match='n'>\n",
            "<re.Match object; span=(265, 266), match='\\n'>\n",
            "<re.Match object; span=(266, 267), match='M'>\n",
            "<re.Match object; span=(267, 268), match='r'>\n",
            "<re.Match object; span=(268, 269), match='.'>\n",
            "<re.Match object; span=(269, 270), match=' '>\n",
            "<re.Match object; span=(270, 271), match='T'>\n",
            "<re.Match object; span=(271, 272), match='\\n'>\n"
          ]
        }
      ]
    },
    {
      "cell_type": "markdown",
      "source": [
        "Quantifiers:\n",
        "'''\n",
        "---\n",
        "star or *     - 0 or More\n",
        "\n",
        "plus or +       - 1 or More\n",
        "\n",
        "?       - 0 or One\n",
        "\n",
        "{3}     - Exact Number\n",
        "\n",
        "{3,4}   - Range of Numbers (Minimum, Maximum)\n",
        "\n",
        "---\n",
        "'''"
      ],
      "metadata": {
        "id": "OjyycKgtS6HM"
      }
    },
    {
      "cell_type": "code",
      "source": [
        "pattern = re.compile(r'\\d{3}.\\d{3}.\\d{4}')  # this another way to find same matches as previous\n",
        "matches = pattern.finditer(text_to_search)\n",
        "for match in matches:\n",
        "  print(match)"
      ],
      "metadata": {
        "colab": {
          "base_uri": "https://localhost:8080/"
        },
        "id": "PvCqejOsTaJw",
        "outputId": "22cd0015-4b60-4715-8a87-adfcb897082b"
      },
      "execution_count": 17,
      "outputs": [
        {
          "output_type": "stream",
          "name": "stdout",
          "text": [
            "<re.Match object; span=(156, 168), match='321-555-4321'>\n",
            "<re.Match object; span=(169, 181), match='123.555.1234'>\n",
            "<re.Match object; span=(182, 194), match='123*555*1234'>\n",
            "<re.Match object; span=(195, 207), match='800-555-1234'>\n",
            "<re.Match object; span=(208, 220), match='900-555-1234'>\n"
          ]
        }
      ]
    },
    {
      "cell_type": "markdown",
      "source": [
        "lets match these from above text\n",
        "\n",
        "\n",
        "Mr. Schafer\n",
        "\n",
        "Mr Smith\n",
        "\n",
        "Ms Davis\n",
        "\n",
        "Mrs. Robinson\n",
        "\n",
        "Mr. T\n",
        "\n"
      ],
      "metadata": {
        "id": "eEwh3gt2UcXt"
      }
    },
    {
      "cell_type": "code",
      "source": [
        "pattern = re.compile(r'Mr\\.?\\s[A-Z]\\w*')  #if we do not put question mark there then only return two match ignor space but with ? it will, \\s for space, [A-Z] for exact cap letter\n",
        "matches = pattern.finditer(text_to_search)\n",
        "for match in matches:\n",
        "  print(match)  #it will ignorinf Mrs."
      ],
      "metadata": {
        "colab": {
          "base_uri": "https://localhost:8080/"
        },
        "id": "c-6rzw9fUb-f",
        "outputId": "0049b72e-71f9-4861-9cee-ef26fd65e253"
      },
      "execution_count": 18,
      "outputs": [
        {
          "output_type": "stream",
          "name": "stdout",
          "text": [
            "<re.Match object; span=(222, 233), match='Mr. Schafer'>\n",
            "<re.Match object; span=(234, 242), match='Mr Smith'>\n",
            "<re.Match object; span=(266, 271), match='Mr. T'>\n"
          ]
        }
      ]
    },
    {
      "cell_type": "code",
      "source": [
        "pattern = re.compile(r'M(r|s|rs)\\.?\\s[A-Z]\\w*')  #if we do not put question mark there then only return two match ignor space but with ? it will, \\s for space, [A-Z] for exact cap letter\n",
        "matches = pattern.finditer(text_to_search)\n",
        "for match in matches:\n",
        "  print(match)  # now we will putting literal r|s|rs   so we will get all result"
      ],
      "metadata": {
        "colab": {
          "base_uri": "https://localhost:8080/"
        },
        "id": "0ZfF-MBYUb6S",
        "outputId": "e2badee4-b7d2-4fdc-bbe8-e9c9b4688040"
      },
      "execution_count": 19,
      "outputs": [
        {
          "output_type": "stream",
          "name": "stdout",
          "text": [
            "<re.Match object; span=(222, 233), match='Mr. Schafer'>\n",
            "<re.Match object; span=(234, 242), match='Mr Smith'>\n",
            "<re.Match object; span=(243, 251), match='Ms Davis'>\n",
            "<re.Match object; span=(252, 265), match='Mrs. Robinson'>\n",
            "<re.Match object; span=(266, 271), match='Mr. T'>\n"
          ]
        }
      ]
    },
    {
      "cell_type": "code",
      "source": [
        "#find all method act as a group match amd return list of tuple\n",
        "pattern = re.compile(r'(Mr|Ms|Mrs)\\.?\\s[A-Z]\\w*')\n",
        "matches = pattern.findall(text_to_search)\n",
        "for match in matches:\n",
        "  print(match)"
      ],
      "metadata": {
        "colab": {
          "base_uri": "https://localhost:8080/"
        },
        "id": "ajJuf-l5RC3l",
        "outputId": "d1c5210e-5c2e-459c-e76c-167209dc3de3"
      },
      "execution_count": 37,
      "outputs": [
        {
          "output_type": "stream",
          "name": "stdout",
          "text": [
            "Mr\n",
            "Mr\n",
            "Ms\n",
            "Mrs\n",
            "Mr\n"
          ]
        }
      ]
    },
    {
      "cell_type": "code",
      "source": [
        "sentence = 'Start a sentence and then bring it to an end'"
      ],
      "metadata": {
        "id": "_tu1MRv-UT5y"
      },
      "execution_count": 38,
      "outputs": []
    },
    {
      "cell_type": "code",
      "source": [
        "#match method, match doesnt allow iteration.it will return first match\n",
        "\n",
        "pattern = re.compile(r'start')\n",
        "matches = pattern.match(sentence)\n",
        "for match in matches:\n",
        "  print(match)"
      ],
      "metadata": {
        "colab": {
          "base_uri": "https://localhost:8080/",
          "height": 237
        },
        "id": "XX0k9t5xTyTi",
        "outputId": "5b86c419-60da-40ab-bd13-bc2a13f6ba49"
      },
      "execution_count": 39,
      "outputs": [
        {
          "output_type": "error",
          "ename": "TypeError",
          "evalue": "ignored",
          "traceback": [
            "\u001b[0;31m---------------------------------------------------------------------------\u001b[0m",
            "\u001b[0;31mTypeError\u001b[0m                                 Traceback (most recent call last)",
            "\u001b[0;32m<ipython-input-39-b0665fce1c5f>\u001b[0m in \u001b[0;36m<cell line: 5>\u001b[0;34m()\u001b[0m\n\u001b[1;32m      3\u001b[0m \u001b[0mpattern\u001b[0m \u001b[0;34m=\u001b[0m \u001b[0mre\u001b[0m\u001b[0;34m.\u001b[0m\u001b[0mcompile\u001b[0m\u001b[0;34m(\u001b[0m\u001b[0;34mr'start'\u001b[0m\u001b[0;34m)\u001b[0m\u001b[0;34m\u001b[0m\u001b[0;34m\u001b[0m\u001b[0m\n\u001b[1;32m      4\u001b[0m \u001b[0mmatches\u001b[0m \u001b[0;34m=\u001b[0m \u001b[0mpattern\u001b[0m\u001b[0;34m.\u001b[0m\u001b[0mmatch\u001b[0m\u001b[0;34m(\u001b[0m\u001b[0msentence\u001b[0m\u001b[0;34m)\u001b[0m\u001b[0;34m\u001b[0m\u001b[0;34m\u001b[0m\u001b[0m\n\u001b[0;32m----> 5\u001b[0;31m \u001b[0;32mfor\u001b[0m \u001b[0mmatch\u001b[0m \u001b[0;32min\u001b[0m \u001b[0mmatches\u001b[0m\u001b[0;34m:\u001b[0m\u001b[0;34m\u001b[0m\u001b[0;34m\u001b[0m\u001b[0m\n\u001b[0m\u001b[1;32m      6\u001b[0m   \u001b[0mprint\u001b[0m\u001b[0;34m(\u001b[0m\u001b[0mmatch\u001b[0m\u001b[0;34m)\u001b[0m\u001b[0;34m\u001b[0m\u001b[0;34m\u001b[0m\u001b[0m\n",
            "\u001b[0;31mTypeError\u001b[0m: 'NoneType' object is not iterable"
          ]
        }
      ]
    },
    {
      "cell_type": "code",
      "source": [
        "pattern = re.compile(r'Start') #it only match begening of string\n",
        "matches = pattern.match(sentence)\n",
        "print(matches)"
      ],
      "metadata": {
        "colab": {
          "base_uri": "https://localhost:8080/"
        },
        "id": "87HCBD0UUn77",
        "outputId": "1d2de394-b0db-4935-8ec6-e95ed8fcacbe"
      },
      "execution_count": 41,
      "outputs": [
        {
          "output_type": "stream",
          "name": "stdout",
          "text": [
            "<re.Match object; span=(0, 5), match='Start'>\n"
          ]
        }
      ]
    },
    {
      "cell_type": "code",
      "source": [
        "#search method\n",
        "pattern = re.compile(r'Start')\n",
        "matches = pattern.search(sentence)\n",
        "print(matches)"
      ],
      "metadata": {
        "colab": {
          "base_uri": "https://localhost:8080/"
        },
        "id": "fgU2QNXYVOqf",
        "outputId": "93b07006-2c91-428c-9c2d-033b123c5dc8"
      },
      "execution_count": 42,
      "outputs": [
        {
          "output_type": "stream",
          "name": "stdout",
          "text": [
            "<re.Match object; span=(0, 5), match='Start'>\n"
          ]
        }
      ]
    },
    {
      "cell_type": "code",
      "source": [
        "#Flag  method very important\n",
        "pattern = re.compile(r'start', re.IGNORECASE)  #here it will ignore all cases like uper or lower\n",
        "matches = pattern.search(sentence)\n",
        "print(matches)"
      ],
      "metadata": {
        "colab": {
          "base_uri": "https://localhost:8080/"
        },
        "id": "97ZTzu6ZWa1u",
        "outputId": "190ecaeb-b231-4e8b-dde4-b8352d3d2db3"
      },
      "execution_count": 43,
      "outputs": [
        {
          "output_type": "stream",
          "name": "stdout",
          "text": [
            "<re.Match object; span=(0, 5), match='Start'>\n"
          ]
        }
      ]
    },
    {
      "cell_type": "code",
      "source": [
        "emails = '''\n",
        "CoreyMSchafer@gmail.com\n",
        "corey.schafer@university.edu\n",
        "corey-321-schafer@my-work.net\n",
        "'''"
      ],
      "metadata": {
        "id": "bjMk8aTGUbzx"
      },
      "execution_count": 20,
      "outputs": []
    },
    {
      "cell_type": "code",
      "source": [
        "pattern= re.compile(r'[A-Za-z0-9.-]+@[a-zA-Z-]+\\.(com|edu|net)')\n",
        "matches = pattern.finditer(emails)\n",
        "\n",
        "for match in matches:\n",
        "    print(match)"
      ],
      "metadata": {
        "colab": {
          "base_uri": "https://localhost:8080/"
        },
        "id": "RrOWXg-eUbwp",
        "outputId": "7d640d52-6f8f-4913-a29b-464d9e40fab0"
      },
      "execution_count": 21,
      "outputs": [
        {
          "output_type": "stream",
          "name": "stdout",
          "text": [
            "<re.Match object; span=(1, 24), match='CoreyMSchafer@gmail.com'>\n",
            "<re.Match object; span=(25, 53), match='corey.schafer@university.edu'>\n",
            "<re.Match object; span=(54, 83), match='corey-321-schafer@my-work.net'>\n"
          ]
        }
      ]
    },
    {
      "cell_type": "code",
      "source": [
        "\n",
        "pattern = re.compile(r'[a-zA-Z0-9_.+-]+@[a-zA-Z0-9-]+\\.[a-zA-Z0-9-.]+')\n",
        "\n",
        "matches = pattern.finditer(emails)\n",
        "\n",
        "for match in matches:\n",
        "    print(match)"
      ],
      "metadata": {
        "colab": {
          "base_uri": "https://localhost:8080/"
        },
        "id": "c0T98EeZUbtR",
        "outputId": "34857c98-da2b-4d25-a804-9eaa79a35a54"
      },
      "execution_count": 22,
      "outputs": [
        {
          "output_type": "stream",
          "name": "stdout",
          "text": [
            "<re.Match object; span=(1, 24), match='CoreyMSchafer@gmail.com'>\n",
            "<re.Match object; span=(25, 53), match='corey.schafer@university.edu'>\n",
            "<re.Match object; span=(54, 83), match='corey-321-schafer@my-work.net'>\n"
          ]
        }
      ]
    },
    {
      "cell_type": "code",
      "source": [
        "urls = '''\n",
        "https://www.google.com\n",
        "http://coreyms.com\n",
        "https://youtube.com\n",
        "https://www.nasa.gov\n",
        "'''\n"
      ],
      "metadata": {
        "id": "kxoANGKQtKmJ"
      },
      "execution_count": 23,
      "outputs": []
    },
    {
      "cell_type": "code",
      "source": [
        "pattern = re.compile(r'https?://(www\\.)?\\w+.\\w+')\n",
        "\n",
        "matches = pattern.finditer(urls)\n",
        "\n",
        "for match in matches:\n",
        "    print(match)"
      ],
      "metadata": {
        "colab": {
          "base_uri": "https://localhost:8080/"
        },
        "id": "oKoO2lGVtKix",
        "outputId": "64a16f62-e036-49c3-c547-e74d5d8a61e2"
      },
      "execution_count": 24,
      "outputs": [
        {
          "output_type": "stream",
          "name": "stdout",
          "text": [
            "<re.Match object; span=(1, 23), match='https://www.google.com'>\n",
            "<re.Match object; span=(24, 42), match='http://coreyms.com'>\n",
            "<re.Match object; span=(43, 62), match='https://youtube.com'>\n",
            "<re.Match object; span=(63, 83), match='https://www.nasa.gov'>\n"
          ]
        }
      ]
    },
    {
      "cell_type": "code",
      "source": [
        "pattern = re.compile(r'https?://(www\\.)?(\\w+)(\\.\\w+)')   #these are treated as grouo first one as alternate and then 2nd, 3rd,so on\n",
        "\n",
        "matches = pattern.finditer(urls)\n",
        "\n",
        "for match in matches:\n",
        "    print(match.group(2))  #group 0 will return all match ,1 will return only www. if present otherwise none,2 will return like google, coreyms"
      ],
      "metadata": {
        "colab": {
          "base_uri": "https://localhost:8080/"
        },
        "id": "tzRdITI8KxXL",
        "outputId": "73a8c234-a537-4723-db3b-991726357699"
      },
      "execution_count": 32,
      "outputs": [
        {
          "output_type": "stream",
          "name": "stdout",
          "text": [
            "google\n",
            "coreyms\n",
            "youtube\n",
            "nasa\n"
          ]
        }
      ]
    },
    {
      "cell_type": "code",
      "source": [
        "#back refrences\n"
      ],
      "metadata": {
        "id": "hDUouAVDM3kj"
      },
      "execution_count": null,
      "outputs": []
    },
    {
      "cell_type": "code",
      "source": [
        "#back refrences or using sub group\n",
        "pattern = re.compile(r'https?://(www\\.)?(\\w+)(\\.\\w+)')\n",
        "\n",
        "subbed_urls = pattern.sub(r'\\2\\3', urls)\n",
        "\n",
        "print(subbed_urls)"
      ],
      "metadata": {
        "id": "o1WkAaxQ194C",
        "outputId": "5f0fa53c-1dec-4e65-d0cc-e450a77e9fee",
        "colab": {
          "base_uri": "https://localhost:8080/"
        }
      },
      "execution_count": 33,
      "outputs": [
        {
          "output_type": "stream",
          "name": "stdout",
          "text": [
            "\n",
            "google.com\n",
            "coreyms.com\n",
            "youtube.com\n",
            "nasa.gov\n",
            "\n"
          ]
        }
      ]
    },
    {
      "cell_type": "code",
      "source": [
        "file_path = '/content/data.txt'"
      ],
      "metadata": {
        "id": "ZXSeDHioFG1u"
      },
      "execution_count": 26,
      "outputs": []
    },
    {
      "cell_type": "code",
      "source": [
        "with open(file_path, 'r', encoding = 'utf-8') as f:\n",
        "    text_content = f.read()"
      ],
      "metadata": {
        "id": "CfMvhOKVXd35"
      },
      "execution_count": null,
      "outputs": []
    },
    {
      "cell_type": "code",
      "source": [
        "pattern = re.compile(r'\\d\\d\\d.\\d\\d\\d.\\d\\d\\d\\d')\n",
        "matches = pattern.finditer(text_content)\n",
        "for match in matches:\n",
        "  print(match)"
      ],
      "metadata": {
        "id": "FC4ZxXzLHOmd"
      },
      "execution_count": null,
      "outputs": []
    },
    {
      "cell_type": "code",
      "source": [],
      "metadata": {
        "id": "MVV2MUDiUa3q"
      },
      "execution_count": null,
      "outputs": []
    }
  ]
}