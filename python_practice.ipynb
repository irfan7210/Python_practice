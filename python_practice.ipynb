{
  "nbformat": 4,
  "nbformat_minor": 0,
  "metadata": {
    "colab": {
      "provenance": [],
      "authorship_tag": "ABX9TyMKg4hOOGFgKkbXFDH2MxAz",
      "include_colab_link": true
    },
    "kernelspec": {
      "name": "python3",
      "display_name": "Python 3"
    },
    "language_info": {
      "name": "python"
    }
  },
  "cells": [
    {
      "cell_type": "markdown",
      "metadata": {
        "id": "view-in-github",
        "colab_type": "text"
      },
      "source": [
        "<a href=\"https://colab.research.google.com/github/irfan7210/Python_practice/blob/main/python_practice.ipynb\" target=\"_parent\"><img src=\"https://colab.research.google.com/assets/colab-badge.svg\" alt=\"Open In Colab\"/></a>"
      ]
    },
    {
      "cell_type": "markdown",
      "source": [
        "# **In Python, create a program that generates a Fibonacci sequence.**"
      ],
      "metadata": {
        "id": "isWMS0c1tJZz"
      }
    },
    {
      "cell_type": "code",
      "execution_count": null,
      "metadata": {
        "id": "ex3mOjADtCQL"
      },
      "outputs": [],
      "source": [
        "def fibonacci_seq(n):\n",
        "  sequence = []\n",
        "  a, b = 0,1\n",
        "  while len(sequence) < n:\n",
        "    sequence.append(a)\n",
        "    a,b = b, a+b\n",
        "  return sequence\n",
        "\n",
        "  "
      ]
    },
    {
      "cell_type": "code",
      "source": [
        "fibonacci_seq(10)"
      ],
      "metadata": {
        "colab": {
          "base_uri": "https://localhost:8080/"
        },
        "id": "6UwFn-ZQ66z_",
        "outputId": "d442b756-8026-4263-a98d-02bf116340b0"
      },
      "execution_count": null,
      "outputs": [
        {
          "output_type": "execute_result",
          "data": {
            "text/plain": [
              "[0, 1, 1, 2, 3, 5, 8, 13, 21, 34]"
            ]
          },
          "metadata": {},
          "execution_count": 6
        }
      ]
    },
    {
      "cell_type": "markdown",
      "source": [
        "# **Make a Python script that checks if a given number is prime.**"
      ],
      "metadata": {
        "id": "k_ss8sTwnOqN"
      }
    },
    {
      "cell_type": "code",
      "source": [
        "n = int(input())\n",
        "if n < 2:\n",
        "    print(False)\n",
        "else:\n",
        "    for i in range(2, n):\n",
        "        if n % i == 0:\n",
        "            print(False)\n",
        "            break\n",
        "    else:\n",
        "        print(True)\n"
      ],
      "metadata": {
        "colab": {
          "base_uri": "https://localhost:8080/"
        },
        "id": "R1GLr6U-lElG",
        "outputId": "fe4dda91-eb90-4ed9-b261-fd2f03f55c95"
      },
      "execution_count": null,
      "outputs": [
        {
          "output_type": "stream",
          "name": "stdout",
          "text": [
            "10\n",
            "False\n"
          ]
        }
      ]
    },
    {
      "cell_type": "markdown",
      "source": [
        "# **Create a Python program that checks if a given sequence is a Palindrome.**"
      ],
      "metadata": {
        "id": "YWmWAUIEwdaD"
      }
    },
    {
      "cell_type": "code",
      "source": [
        "num = int(input())\n",
        "str_num = str(num)\n",
        "reverse = str_num[::-1]\n",
        "if str_num == reverse:\n",
        "  print(\"YES\")\n",
        "else:\n",
        "  print(\"FALSE\")\n"
      ],
      "metadata": {
        "colab": {
          "base_uri": "https://localhost:8080/"
        },
        "id": "BP-c90X4whE4",
        "outputId": "1357dd3e-2ced-4434-e66f-07666f545e44"
      },
      "execution_count": null,
      "outputs": [
        {
          "output_type": "stream",
          "name": "stdout",
          "text": [
            "122\n",
            "FALSE\n"
          ]
        }
      ]
    },
    {
      "cell_type": "markdown",
      "source": [
        "## Someimp"
      ],
      "metadata": {
        "id": "fByE6WZZ4Ps7"
      }
    },
    {
      "cell_type": "markdown",
      "source": [
        "**In a NumPy array, how do I extract the indices of N maximum values?**"
      ],
      "metadata": {
        "id": "pYKTtSk-z6uI"
      }
    },
    {
      "cell_type": "code",
      "source": [
        "import numpy   \n",
        "array = numpy.array([4, 8, 4, 9, 2])  \n",
        "print(array.argsort()[-2:][::-1])  "
      ],
      "metadata": {
        "id": "VROooSBu4eTC"
      },
      "execution_count": null,
      "outputs": []
    },
    {
      "cell_type": "markdown",
      "source": [
        "\n",
        "**Using Python/ NumPy, write code to compute percentiles?**\n"
      ],
      "metadata": {
        "id": "upM2eNjA4aaW"
      }
    },
    {
      "cell_type": "code",
      "source": [
        "import numpy   \n",
        "array = numpy.array([3, 6, 1, 6, 5, 2])  \n",
        "percentile = numpy.percentile(array, 45) #Returns 45th percentile  \n",
        "print(percentile)  "
      ],
      "metadata": {
        "id": "ztGCggPo4pVR"
      },
      "execution_count": null,
      "outputs": []
    },
    {
      "cell_type": "markdown",
      "source": [
        "# **Write a Python program to determine whether a number is binary.**"
      ],
      "metadata": {
        "id": "zHBLt90j4wOP"
      }
    },
    {
      "cell_type": "code",
      "source": [
        "num = int(input())\n",
        "if set(str(num)) <= {'0', '1'}:\n",
        "  print(\"IS_Binary\")\n",
        "else:\n",
        "  print(\"not_Binary\")"
      ],
      "metadata": {
        "colab": {
          "base_uri": "https://localhost:8080/"
        },
        "id": "N06PMnGa4zCZ",
        "outputId": "d8dc012f-d331-48e3-e254-210ce6c8fe70"
      },
      "execution_count": null,
      "outputs": [
        {
          "output_type": "stream",
          "name": "stdout",
          "text": [
            "101010\n",
            "IS_Binary\n"
          ]
        }
      ]
    },
    {
      "cell_type": "code",
      "source": [
        "num = int(input())\n",
        "while num > 0:\n",
        "  x= num%10\n",
        "  if x !=0 and x !=1:\n",
        "    print(\"NOT A BINARY\")\n",
        "    break\n",
        "  if num%10==0:\n",
        "    print(\"BINARY\")\n",
        "    break\n"
      ],
      "metadata": {
        "colab": {
          "base_uri": "https://localhost:8080/"
        },
        "id": "hiBI-QosCndO",
        "outputId": "dc16b24d-040f-4a9e-b4ed-2fa299c66a41"
      },
      "execution_count": null,
      "outputs": [
        {
          "output_type": "stream",
          "name": "stdout",
          "text": [
            "101010\n",
            "BINARY\n"
          ]
        }
      ]
    },
    {
      "cell_type": "markdown",
      "source": [
        "# **calculate factorial in Python.**"
      ],
      "metadata": {
        "id": "JOQH4jCLFQrs"
      }
    },
    {
      "cell_type": "markdown",
      "source": [
        "Using the Iterative technique, "
      ],
      "metadata": {
        "id": "dvRK4UQjFyfQ"
      }
    },
    {
      "cell_type": "code",
      "source": [
        "def fact_num(n):\n",
        "    if n < 0:\n",
        "        print(\"Factorial can't be calculated for negative numbers\")\n",
        "    elif n == 0:\n",
        "        print(\"Factorial of 0 is 1\")\n",
        "    else:\n",
        "        fact = 1  # initialize the factorial variable to 1\n",
        "        for i in range(1, n + 1):\n",
        "            fact *= i  # update the factorial variable with the product of the previous value and the current index\n",
        "        print(f\"Factorial of {n} is {fact}\")\n"
      ],
      "metadata": {
        "id": "5Et7pwE0FQQP"
      },
      "execution_count": null,
      "outputs": []
    },
    {
      "cell_type": "code",
      "source": [
        "fact_num(5)"
      ],
      "metadata": {
        "colab": {
          "base_uri": "https://localhost:8080/"
        },
        "id": "vjMlwT7NLy1p",
        "outputId": "e1585ef7-b3b1-4cfc-8358-334ad6f1d6e3"
      },
      "execution_count": null,
      "outputs": [
        {
          "output_type": "stream",
          "name": "stdout",
          "text": [
            "Factorial of 5 is 120\n"
          ]
        }
      ]
    },
    {
      "cell_type": "markdown",
      "source": [
        "# **Compute the LCM of two given numbers using Python code.**"
      ],
      "metadata": {
        "id": "pz__ES9-NBQ-"
      }
    },
    {
      "cell_type": "code",
      "source": [
        "print(\"enter the numbers\")\n",
        "a = int(input())\n",
        "b = int(input())\n",
        "for i in range(1, a*b + 1):\n",
        "  if i%a==0 and i%b==0:\n",
        "    print(\"LCM of number is: \", i)\n",
        "    break\n",
        "\n",
        "\n"
      ],
      "metadata": {
        "colab": {
          "base_uri": "https://localhost:8080/"
        },
        "id": "AIzZBZGmxoxi",
        "outputId": "1cf942e8-8673-4365-9fd6-54a6336309dd"
      },
      "execution_count": null,
      "outputs": [
        {
          "output_type": "stream",
          "name": "stdout",
          "text": [
            "enter the numbers\n",
            "4\n",
            "3\n",
            "LCM of number is:  12\n"
          ]
        }
      ]
    },
    {
      "cell_type": "markdown",
      "source": [
        "# **Write a Python program that removes vowels from a string.**"
      ],
      "metadata": {
        "id": "KucOoMUcXcds"
      }
    },
    {
      "cell_type": "code",
      "source": [
        "def remove_vowels(s):\n",
        "    vowels = \"aeiouAEIOU\"\n",
        "    result = \"\"\n",
        "    # Iterate over each character in the input string\n",
        "    for char in s:\n",
        "        # If the character is not a vowel, append it to the result string\n",
        "        if char not in vowels:\n",
        "            result += char\n",
        "    # Return the result string with all vowels removed\n",
        "    return result\n"
      ],
      "metadata": {
        "id": "6i-J0TMQ4Xbo"
      },
      "execution_count": 2,
      "outputs": []
    },
    {
      "cell_type": "code",
      "source": [
        "remove_vowels(\"FighTER\")"
      ],
      "metadata": {
        "colab": {
          "base_uri": "https://localhost:8080/",
          "height": 35
        },
        "id": "It5fwVpFeQy-",
        "outputId": "8072e548-570d-40a0-9c39-9f1dfd4b6538"
      },
      "execution_count": 4,
      "outputs": [
        {
          "output_type": "execute_result",
          "data": {
            "text/plain": [
              "'FghTR'"
            ],
            "application/vnd.google.colaboratory.intrinsic+json": {
              "type": "string"
            }
          },
          "metadata": {},
          "execution_count": 4
        }
      ]
    },
    {
      "cell_type": "markdown",
      "source": [
        "# **Write a Python code to reverse a given list.**"
      ],
      "metadata": {
        "id": "xOnZjXslrLBP"
      }
    },
    {
      "cell_type": "code",
      "source": [
        "print(\"enter the number\")\n",
        "number = int(input())\n",
        "string = str(number)\n",
        "reversed_str = string[::-1]\n",
        "print(reversed_str)\n"
      ],
      "metadata": {
        "colab": {
          "base_uri": "https://localhost:8080/"
        },
        "id": "fqumhvPGvUDR",
        "outputId": "8e2e9f06-fa3b-4e6f-f3e6-d7de72e09e63"
      },
      "execution_count": 2,
      "outputs": [
        {
          "output_type": "stream",
          "name": "stdout",
          "text": [
            "enter the number\n",
            "12345\n",
            "54321\n"
          ]
        }
      ]
    },
    {
      "cell_type": "markdown",
      "source": [
        "# **Write a Python program that rotates an array by two positions to the right.**"
      ],
      "metadata": {
        "id": "-nfXzbzCvhXC"
      }
    },
    {
      "cell_type": "code",
      "source": [
        "print(\"enter the number\")\n",
        "number = int(input())\n",
        "string = str(number)\n",
        "rotated_str = string[::]\n",
        "print(reversed_str)"
      ],
      "metadata": {
        "colab": {
          "base_uri": "https://localhost:8080/"
        },
        "id": "M6-KXwtdvkaf",
        "outputId": "d970dd38-dd3e-4d47-99e1-d49da7fbf544"
      },
      "execution_count": 3,
      "outputs": [
        {
          "output_type": "stream",
          "name": "stdout",
          "text": [
            "enter the number\n",
            "543256\n",
            "54321\n"
          ]
        }
      ]
    },
    {
      "cell_type": "code",
      "source": [],
      "metadata": {
        "id": "aP1_PMzV_o9B"
      },
      "execution_count": null,
      "outputs": []
    }
  ]
}