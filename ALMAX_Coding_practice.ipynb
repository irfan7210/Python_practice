{
  "nbformat": 4,
  "nbformat_minor": 0,
  "metadata": {
    "colab": {
      "provenance": [],
      "toc_visible": true,
      "authorship_tag": "ABX9TyOdc+keyojify8tnyXEM90Q",
      "include_colab_link": true
    },
    "kernelspec": {
      "name": "python3",
      "display_name": "Python 3"
    },
    "language_info": {
      "name": "python"
    }
  },
  "cells": [
    {
      "cell_type": "markdown",
      "metadata": {
        "id": "view-in-github",
        "colab_type": "text"
      },
      "source": [
        "<a href=\"https://colab.research.google.com/github/irfan7210/Python_practice/blob/main/ALMAX_Coding_practice.ipynb\" target=\"_parent\"><img src=\"https://colab.research.google.com/assets/colab-badge.svg\" alt=\"Open In Colab\"/></a>"
      ]
    },
    {
      "cell_type": "markdown",
      "source": [
        "# **Week-1 Day1**"
      ],
      "metadata": {
        "id": "MZB8JJE8gola"
      }
    },
    {
      "cell_type": "markdown",
      "source": [
        "**SQL**"
      ],
      "metadata": {
        "id": "aDAIqqGIg3PU"
      }
    },
    {
      "cell_type": "markdown",
      "source": [
        "A salesperson is a person whose job is to sell products or services. From the following dataframe, write a SQL query to find the top 10 salesperson that have made highest sale. Return their names and total sale amount.\n",
        "\n",
        "Table-I: sales\n",
        "\n",
        "Table-II: salesman"
      ],
      "metadata": {
        "id": "jlWX5gz0g9yB"
      }
    },
    {
      "cell_type": "code",
      "execution_count": null,
      "metadata": {
        "id": "ZLzCsamigBj-"
      },
      "outputs": [],
      "source": [
        "-- Write your query here\n",
        "select s1.SALESMAN_NAME, sum(s2.sale_amount) as total_sale  from salesman s1 left join sales s2 on s1.SALESMAN_ID = s2.SALESMAN_ID\n",
        "group by SALESMAN_NAME order by total_sale DESC limit 10 ;"
      ]
    },
    {
      "cell_type": "markdown",
      "source": [
        "Information of Salesperson\n",
        "Easy\n",
        "From the following dataframes, write a SQL query to find the information on each salesperson of ABC Company. Return name, city, country and state of each salesperson.\n",
        "\n",
        "Table-I: salespersons\n",
        "\n",
        "Table-II: address\n",
        "\n",
        "Expected Output:"
      ],
      "metadata": {
        "id": "tWYCNPEihDxn"
      }
    },
    {
      "cell_type": "code",
      "source": [
        "-- Write your query here\n",
        "select t1.first_name, t1.last_name, COALESCE(t2.city, 'None') as city, COALESCE(t2.state, 'None') as state\n",
        "from salespersons t1  left join address t2 on t1.salesperson_id = t2.salesperson_id;"
      ],
      "metadata": {
        "id": "JHaNGoyGhKbT"
      },
      "execution_count": null,
      "outputs": []
    },
    {
      "cell_type": "markdown",
      "source": [
        "Find customers\n",
        "Easy\n",
        "From the following Dataframes, write a SQL query to find those customers who never ordered anything. Return customer name.\n",
        "\n",
        "Table-I: customers\n",
        "\n",
        "Table-II: orders\n",
        "\n",
        "Expected Output:"
      ],
      "metadata": {
        "id": "sAxbieMnhNh1"
      }
    },
    {
      "cell_type": "code",
      "source": [
        "-- Write your query here\n",
        "select \tc.customer_name as customers from customers c left join orders o on c.customer_id= o.customer_id\n",
        "where order_id is null;"
      ],
      "metadata": {
        "id": "QMctTZVchRD4"
      },
      "execution_count": null,
      "outputs": []
    },
    {
      "cell_type": "markdown",
      "source": [
        "High pollution\n",
        "Easy\n",
        "From the following dataframe, write a SQL query to find all dates' city ID with higher pollution compared to its previous dates (yesterday). Return city ID, date and pollution.\n",
        "\n",
        "Table: so2_pollution\n",
        "\n",
        "Expected Output:"
      ],
      "metadata": {
        "id": "ZIPBiHrahTcy"
      }
    },
    {
      "cell_type": "code",
      "source": [
        "-- Write your query here\n",
        "SELECT p2.city_id as 'City ID' FROM so2_pollution p2, so2_pollution p1\n",
        "WHERE p2.so2_amt > p1.so2_amt\n",
        "AND JULIANDAY(p2.date) - JULIANDAY(p1.date) = 1\n"
      ],
      "metadata": {
        "id": "YPBl4bJehTD2"
      },
      "execution_count": null,
      "outputs": []
    },
    {
      "cell_type": "markdown",
      "source": [
        "Duplicate emails\n",
        "Easy\n",
        "From the following dataframe, write a SQL query to find all the duplicate emails of employees keeping the unique email with the greater employee id. Return employee id and duplicate emails.\n",
        "\n",
        "Table: employees"
      ],
      "metadata": {
        "id": "IC9PVWFahbkK"
      }
    },
    {
      "cell_type": "code",
      "source": [
        "-- Write your query here\n",
        "select max(employee_id), employee_name, email_id from employees group by email_id having count(email_id) >1;"
      ],
      "metadata": {
        "id": "3v59Ct2HheuJ"
      },
      "execution_count": null,
      "outputs": []
    },
    {
      "cell_type": "markdown",
      "source": [
        "**PYTHON**"
      ],
      "metadata": {
        "id": "ArxlL94HhrAs"
      }
    },
    {
      "cell_type": "markdown",
      "source": [
        "String Palindrome\n",
        "Easy\n",
        "Write a Python program to check whether a String is Palindrome or not?\n",
        "\n",
        "Example 1:\n",
        "Input:\n",
        "madam\n",
        "\n",
        "Output:\n",
        "String is a Palindrome\n",
        "\n",
        "Example 2:\n",
        "Input:\n",
        "abcdxyz\n",
        "\n",
        "Output:\n",
        "String is not a Palindrome\n",
        "\n",
        "Example 3:\n",
        "Input:\n",
        "radar\n",
        "\n",
        "Output:\n",
        "String is a Palindrome"
      ],
      "metadata": {
        "id": "n0QUlWDhhuWC"
      }
    },
    {
      "cell_type": "code",
      "source": [
        "string = input()\n",
        "reverse = string[::-1]\n",
        "\n",
        "if reverse == string:\n",
        "    print(\"String is a Palindrome\")\n",
        "else:\n",
        "    print(\"String is not a Palindrome\")"
      ],
      "metadata": {
        "id": "Mc7snnN_iikD"
      },
      "execution_count": null,
      "outputs": []
    },
    {
      "cell_type": "markdown",
      "source": [
        "Find last position of substring\n",
        "Easy\n",
        "Write a python program to find the last position of a given substring.\n",
        "\n",
        "Example 1:\n",
        "Input:\n",
        "Emma is a data scientist who knows Python. Emma works at google.\n",
        "\n",
        "Emma\n",
        "\n",
        "Output:\n",
        "Last occurrence of Emma starts at index 43\n",
        "\n",
        "Example 2:\n",
        "Input:\n",
        "Practice and practice until you fail\n",
        "\n",
        "until\n",
        "\n",
        "Output:\n",
        "Last occurrence of until starts at index 22"
      ],
      "metadata": {
        "id": "HrNpZNP_imYj"
      }
    },
    {
      "cell_type": "code",
      "source": [
        "str1 =str(input())\n",
        "substr=input()\n",
        "st= str(substr)\n",
        "x=str1.rfind(st)\n",
        "print(f\"Last occurrence of {st} starts at index {x}\")"
      ],
      "metadata": {
        "id": "cYjO-6pIlIhu"
      },
      "execution_count": null,
      "outputs": []
    },
    {
      "cell_type": "markdown",
      "source": [
        "Remove char. from string\n",
        "Easy\n",
        "Write a python program to remove a given character from string.\n",
        "\n",
        "Example 1:\n",
        "Input:\n",
        "AlmaBetter\n",
        "\n",
        "t\n",
        "\n",
        "Output:\n",
        "almabe er"
      ],
      "metadata": {
        "id": "e1OMKU0DlLiO"
      }
    },
    {
      "cell_type": "code",
      "source": [
        "\n",
        "str = input()\n",
        "ch = input()\n",
        "z=str.lower()\n",
        "f=ch.lower()\n",
        "x=z.replace(f, \" \")\n",
        "print(x)"
      ],
      "metadata": {
        "id": "dZmHvedape2F"
      },
      "execution_count": null,
      "outputs": []
    },
    {
      "cell_type": "markdown",
      "source": [
        "Perfect Number\n",
        "Easy\n",
        "Write a python program to check a given number is perfect or not.\n",
        "\n",
        "Note: A perfect number is a positive integer that is equal to the sum of its positive divisors, excluding the number itself.\n",
        "\n",
        "Lets understand it with example\n",
        "\n",
        "6 is a positive number and its divisor is 1,2,3 and 6 itself.\n",
        "\n",
        "But we should not include 6 as by the definition of perfect number.\n",
        "\n",
        "Lets add its divisor excluding itself\n",
        "\n",
        "1+2+3 = 6 which is equal to number itself.\n",
        "\n",
        "It means 6 is a Perfect Number.\n",
        "\n",
        "Example 1:\n",
        "Input:\n",
        "28\n",
        "\n",
        "Output:\n",
        "It is Perfect Number\n",
        "\n",
        "Example 2:\n",
        "Input:\n",
        "1256488\n",
        "\n",
        "Output:\n",
        "It is not Perfect Number\n",
        "\n",
        "Example 3:\n",
        "Input:\n",
        "88\n",
        "\n",
        "Output:\n",
        "It is not Perfect Number"
      ],
      "metadata": {
        "id": "5aaNvV5NphQJ"
      }
    },
    {
      "cell_type": "code",
      "source": [
        "num = int(input())\n",
        "result=0\n",
        "for i in range(1, num):\n",
        "    if num%i == 0:\n",
        "        result = result+i\n",
        "if result == num:\n",
        "    print(\"It is Perfect Number\")\n",
        "else:\n",
        "    print(\"It is not Perfect Number\")"
      ],
      "metadata": {
        "id": "BTodMZwQpk6K"
      },
      "execution_count": null,
      "outputs": []
    },
    {
      "cell_type": "markdown",
      "source": [
        "Swap two numbers\n",
        "Easy\n",
        "Write a Python program to swap two number without using third variable.\n",
        "\n",
        "Example 1:\n",
        "Input:\n",
        "a=9\n",
        "\n",
        "b=2\n",
        "\n",
        "Output:\n",
        "value of a is : 9\n",
        "\n",
        "value of b is : 2\n",
        "\n",
        "After swapping\n",
        "\n",
        "value of a is : 2\n",
        "\n",
        "value of b is : 9\n",
        "\n",
        "Example 2:\n",
        "Input:\n",
        "a=10\n",
        "\n",
        "b=01\n",
        "\n",
        "Output:\n",
        "value of a is : 10\n",
        "\n",
        "value of b is : 01\n",
        "\n",
        "After swapping\n",
        "\n",
        "value of a is : 01\n",
        "\n",
        "value of b is : 10"
      ],
      "metadata": {
        "id": "1QBaOwyDpn6H"
      }
    },
    {
      "cell_type": "code",
      "source": [
        "a=int(input())\n",
        "b=int(input())\n",
        "print(\"value of a is :\",a)\n",
        "print(\"value of b is :\",b)\n",
        "\n",
        "a ,b = b,a\n",
        "\n",
        "print(\"After swapping\")\n",
        "\n",
        "print(\"value of a is :\",a)\n",
        "print(\"value of b is :\",b)\n"
      ],
      "metadata": {
        "id": "H7JNpgKjprpL"
      },
      "execution_count": null,
      "outputs": []
    },
    {
      "cell_type": "markdown",
      "source": [
        "\n",
        "**Coding Practice: Week 1 - Day 4**"
      ],
      "metadata": {
        "id": "ekpJW7pEputx"
      }
    },
    {
      "cell_type": "markdown",
      "source": [
        "Find even or odd values\n",
        "Easy\n",
        "From the following dataframe, write a SQL query to find the even or odd values. Return \"Even\" for even number and \"Odd\" for odd number.\n",
        "\n",
        "Table: tablefortest"
      ],
      "metadata": {
        "id": "LSN9lQiaqDB4"
      }
    },
    {
      "cell_type": "code",
      "source": [
        "-- Write your query here\n",
        "SELECT srno, col_val,\n",
        "    CASE\n",
        "        WHEN col_val % 2 = 0 THEN 'Even'\n",
        "        WHEN col_val % 2 != 0 THEN 'Odd'\n",
        "    END AS Even_Odd\n",
        "FROM tablefortest;\n",
        "\n"
      ],
      "metadata": {
        "id": "fAe51EwrqSIJ"
      },
      "execution_count": null,
      "outputs": []
    },
    {
      "cell_type": "markdown",
      "source": [
        "Overall rate\n",
        "Easy\n",
        "From the following dataframe, write a SQL query to find the overall rate of execution of orders, which is the number of orders execution divided by the number of orders quote. Return rate_of_execution rounded to 2 decimals places.\n",
        "\n",
        "Table- I: orders_issued\n",
        "\n",
        "Table-II: orders_executed\n",
        "\n",
        "Expected Output:\n",
        "\n"
      ],
      "metadata": {
        "id": "yqKThIMMqUPf"
      }
    },
    {
      "cell_type": "code",
      "source": [
        "SELECT\n",
        "    ROUND(\n",
        "        (SELECT COUNT(*) FROM (SELECT DISTINCT orders_from, executed_from FROM orders_executed) AS A)\n",
        "        /\n",
        "        (SELECT COUNT(*) FROM (SELECT DISTINCT distributor_id, company_id FROM orders_issued) AS B),\n",
        "        2\n",
        "    ) AS rate_of_execution;\n"
      ],
      "metadata": {
        "id": "FLiDmy6gqY_M"
      },
      "execution_count": null,
      "outputs": []
    },
    {
      "cell_type": "markdown",
      "source": [
        "No order\n",
        "Easy\n",
        "From the following dataframes find those customers who did not make any order to the supplier 'DCX LTD'.\n",
        "\n",
        "Table- I: customers\n",
        "\n",
        "Table- II: supplier\n",
        "\n",
        "Table- III: orders\n",
        "\n",
        "Expected Output:"
      ],
      "metadata": {
        "id": "e1CWUxnTqbfW"
      }
    },
    {
      "cell_type": "code",
      "source": [
        "-- Write your query here\n",
        "SELECT c.customer_name\n",
        "FROM customers c\n",
        "WHERE c.customer_id\n",
        "NOT IN (SELECT o.customer_id\n",
        "FROM orders o\n",
        "LEFT JOIN supplier s\n",
        "ON o.supplier_id = s.supplier_id\n",
        "WHERE s.supplier_name = 'DCX LTD');\n",
        "\n"
      ],
      "metadata": {
        "id": "VpC6JrhOqa_N"
      },
      "execution_count": null,
      "outputs": []
    },
    {
      "cell_type": "markdown",
      "source": [
        "Best Seller\n",
        "Easy\n",
        "From the following dataframes, write an SQL query to find the best seller by total sales price. Return distributor ID , If there is a tie, report them all.\n",
        "\n",
        "Table-I: item\n",
        "\n",
        "Table-II: sales_info\n",
        "\n",
        "Expected Output:"
      ],
      "metadata": {
        "id": "fu61cmCtr0lB"
      }
    },
    {
      "cell_type": "code",
      "source": [
        "-- Write your query here\n",
        "select s.distributor_id\n",
        "from sales_info s\n",
        "group by s.distributor_id\n",
        "having sum(s.total_cost) = (select max(cost) from (\n",
        "    select sum(s.total_cost) as cost from sales_info s group by s.distributor_id\n",
        ") as sub);\n"
      ],
      "metadata": {
        "id": "BksTgOFJs_T8"
      },
      "execution_count": null,
      "outputs": []
    },
    {
      "cell_type": "markdown",
      "source": [
        "Find retailers\n",
        "Easy\n",
        "From the above dataframes, write a SQL query to find those retailers who have bought 'key board' but not 'mouse'. Return retailer ID.\n",
        "\n",
        "Table-I: item\n",
        "\n",
        "Table-II: sales_info\n",
        "\n",
        "Expected Output:"
      ],
      "metadata": {
        "id": "2hK6tK74tBha"
      }
    },
    {
      "cell_type": "code",
      "source": [
        "SELECT DISTINCT retailer_id\n",
        "FROM sales_info\n",
        "WHERE item_code IN (\n",
        "  SELECT item_code FROM item WHERE item_desc = 'key board'\n",
        ")\n",
        "AND retailer_id NOT IN (\n",
        "  SELECT retailer_id\n",
        "  FROM sales_info\n",
        "  WHERE item_code IN (\n",
        "    SELECT item_code FROM item WHERE item_desc = 'mouse'\n",
        "  )\n",
        ")\n",
        "ORDER BY retailer_id;\n"
      ],
      "metadata": {
        "id": "kBeaz-nHtVI9"
      },
      "execution_count": null,
      "outputs": []
    },
    {
      "cell_type": "markdown",
      "source": [
        "Left triangle alphabet pattern-1\n",
        "Easy\n",
        "Write a program in python to print the following pattern for the given N number of rows.\n",
        "\n",
        "The left alphabet triangle pattern is a triangle pattern that is made of alphabets and has perpendicular on its left side.\n",
        "\n",
        "Example 1:\n",
        "Input:\n",
        "3\n",
        "\n",
        "Output:\n",
        "\n",
        "A\n",
        "BB\n",
        "CCC"
      ],
      "metadata": {
        "id": "mtqwGRdFtXP_"
      }
    },
    {
      "cell_type": "code",
      "source": [
        "\n",
        "n = int(input())\n",
        "\n",
        "for i in range (1, n+1):\n",
        "    # inner loop\n",
        "    for j in range(1,i+1):\n",
        "        print(chr(65+i-1),end=\"\")\n",
        "    print()\n"
      ],
      "metadata": {
        "id": "803S05CutauQ"
      },
      "execution_count": null,
      "outputs": []
    },
    {
      "cell_type": "markdown",
      "source": [
        "Left triangle number pattern-2\n",
        "Easy\n",
        "Write a program in python to print the following pattern for the given N number of rows.\n",
        "\n",
        "The left number triangle pattern is a triangle pattern that is made of numbers and has perpendicular on its left side.\n",
        "\n",
        "Example 1:\n",
        "Input:\n",
        "4\n",
        "\n",
        "Output:\n",
        "\n",
        "1\n",
        "11\n",
        "202\n",
        "3003"
      ],
      "metadata": {
        "id": "8_LOWWXXtdWG"
      }
    },
    {
      "cell_type": "code",
      "source": [
        "n = int(input())\n",
        "for i in range(1, n + 1):\n",
        "    row = \"\"\n",
        "    for j in range(i):\n",
        "        if j == 0 or j == i - 1:\n",
        "            row += str(i - 1)\n",
        "        else:\n",
        "            row += \"0\"\n",
        "    print(row)\n"
      ],
      "metadata": {
        "id": "qfkdu9q7t9CI"
      },
      "execution_count": null,
      "outputs": []
    },
    {
      "cell_type": "markdown",
      "source": [
        "Square alphabet pattern-2\n",
        "Medium\n",
        "Write a program in python to print the following pattern for the given N number of rows.\n",
        "\n",
        "The square alphabet pattern is the easiest pattern program. It is a pattern that has the shape of a square made of alphabets. Since it is a square, it is very easy to create and print.\n",
        "\n",
        "Example 1:\n",
        "Input:\n",
        "4\n",
        "\n",
        "Output:\n",
        "\n",
        "ABCD\n",
        "BCDE\n",
        "CDEF\n",
        "DEFG"
      ],
      "metadata": {
        "id": "0hZN1ElPt-2G"
      }
    },
    {
      "cell_type": "code",
      "source": [
        "#Please ensure platform IDE is in Python 3.x mode.\n",
        "#If you face any issue here, you may write the code on colab or jupyter.\n",
        "#Then, paste the code snippet here and run test cases.\n",
        "\n",
        "n = int(input())\n",
        "\n",
        "for i in range(0, n):\n",
        "    for j in range(i, i + n):\n",
        "        print(chr(65 + j), end=\"\")\n",
        "    print()"
      ],
      "metadata": {
        "id": "1zApD43OuBoO"
      },
      "execution_count": null,
      "outputs": []
    },
    {
      "cell_type": "markdown",
      "source": [
        "Left downward triangle number pattern-2\n",
        "Medium\n",
        "Write a program in python to print the following pattern for the given N number of rows.\n",
        "\n",
        "The left downward triangle pattern is the pattern of a triangle upside down. It is also sometimes known as inverted number pattern.\n",
        "\n",
        "Example 1:\n",
        "Input:\n",
        "4\n",
        "\n",
        "Output:\n",
        "\n",
        "4444\n",
        "333\n",
        "22\n",
        "1"
      ],
      "metadata": {
        "id": "ctwC3NqjuDys"
      }
    },
    {
      "cell_type": "code",
      "source": [
        "n=int(input())\n",
        "for i in range(n, 0, -1):\n",
        "    for j in range(1, i+1):\n",
        "        print(i, end=\"\")\n",
        "    print()\n"
      ],
      "metadata": {
        "id": "cRdoqdk5uG6Z"
      },
      "execution_count": null,
      "outputs": []
    },
    {
      "cell_type": "markdown",
      "source": [
        "Right triangle number pattern-2\n",
        "Hard\n",
        "Write a program in python to print the following pattern for the given N number of rows.\n",
        "\n",
        "Example 1:\n",
        "Input:\n",
        "4\n",
        "\n",
        "Output:\n",
        "\n",
        "      1\n",
        "    21\n",
        "  321\n",
        "4321"
      ],
      "metadata": {
        "id": "g0JrA1w4uJEk"
      }
    },
    {
      "cell_type": "code",
      "source": [
        "n = int(input())\n",
        "for i in range(1, n+1):\n",
        "    for j in range(n-i):\n",
        "        print(\" \", end=\" \")\n",
        "    for k in range(i, 0, -1):\n",
        "        print(k, end=\"\")\n",
        "    print()"
      ],
      "metadata": {
        "id": "j8OlmluKuNBI"
      },
      "execution_count": null,
      "outputs": []
    },
    {
      "cell_type": "markdown",
      "source": [
        "# **Raw practice**"
      ],
      "metadata": {
        "id": "DO52IJFmxNIJ"
      }
    },
    {
      "cell_type": "code",
      "source": [
        "# Python program for the above approach\n",
        "\n",
        "# Function to find insert position of K\n",
        "def find_index(arr, n, K):\n",
        "\n",
        "\t# Traverse the array\n",
        "\tfor i in range(n):\n",
        "\n",
        "\t\t# If K is found\n",
        "\t\tif arr[i] == K:\n",
        "\t\t\treturn i\n",
        "\n",
        "\t\t# If arr[i] exceeds K\n",
        "\t\telif arr[i] > K:\n",
        "\t\t\treturn i\n",
        "\n",
        "\t# If all array elements are smaller\n",
        "\treturn n\n",
        "\n",
        "# Driver Code\n",
        "arr = [1, 3, 5, 6]\n",
        "n = len(arr)\n",
        "K = 2\n",
        "print(find_index(arr, n, K))\n"
      ],
      "metadata": {
        "id": "k2gyJKxelK2E"
      },
      "execution_count": null,
      "outputs": []
    },
    {
      "cell_type": "code",
      "source": [
        "nums=eval(input())\n",
        "lists={}\n",
        "def singleNumber(nums):\n",
        "    for i in nums:\n",
        "        if i in list:\n",
        "            lists[i] +=1\n",
        "        else:\n",
        "            lists[i] = 1\n",
        "    for lists, i in lists.item():\n",
        "      if lists == 1:\n",
        "        return i\n",
        "\n",
        "single_num = singleNumber(lists)\n",
        "print(\"Single number:\", i)"
      ],
      "metadata": {
        "id": "PVcl9BnexVjU"
      },
      "execution_count": null,
      "outputs": []
    },
    {
      "cell_type": "code",
      "source": [
        "nums = eval(input(\"Enter the array of integers: \"))\n",
        "\n",
        "def singleNumber(nums):\n",
        "    counts = {}\n",
        "    for num in nums:\n",
        "        if num in counts:\n",
        "            counts[num] += 1\n",
        "        else:\n",
        "            counts[num] = 1\n",
        "\n",
        "    for num, count in counts.items():\n",
        "        if count == 1:\n",
        "            return num\n",
        "\n",
        "single_num = singleNumber(nums)\n",
        "print(\"Single number:\", single_num)\n"
      ],
      "metadata": {
        "id": "wb_sdyIqz3IA"
      },
      "execution_count": null,
      "outputs": []
    }
  ]
}